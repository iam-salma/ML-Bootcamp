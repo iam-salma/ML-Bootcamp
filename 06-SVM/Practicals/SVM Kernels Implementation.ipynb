{
 "cells": [
  {
   "cell_type": "markdown",
   "metadata": {},
   "source": [
    "### SVM Kernels Indepth Intuition And Practical Explanation"
   ]
  },
  {
   "cell_type": "code",
   "execution_count": 2,
   "metadata": {},
   "outputs": [],
   "source": [
    "import numpy as np\n",
    "import matplotlib.pyplot as plt\n",
    "\n",
    "x = np.linspace(-5.0, 5.0, 100)\n",
    "y = np.sqrt(10**2 - x**2)\n",
    "y=np.hstack([y,-y])\n",
    "x=np.hstack([x,-x])"
   ]
  },
  {
   "cell_type": "code",
   "execution_count": 3,
   "metadata": {},
   "outputs": [
    {
     "data": {
      "text/plain": [
       "array([ 8.66025404,  8.71779204,  8.77378994,  8.82827705,  8.88128118,\n",
       "        8.93282873,  8.98294476,  9.03165312,  9.07897646,  9.12493632,\n",
       "        9.16955321,  9.21284664,  9.25483518,  9.29553652,  9.3349675 ,\n",
       "        9.37314414,  9.41008171,  9.44579475,  9.4802971 ,  9.51360192,\n",
       "        9.54572176,  9.57666854,  9.60645359,  9.63508769,  9.66258107,\n",
       "        9.68894344,  9.714184  ,  9.73831149,  9.76133416,  9.7832598 ,\n",
       "        9.80409577,  9.82384901,  9.84252604,  9.86013297,  9.87667553,\n",
       "        9.89215905,  9.90658851,  9.91996849,  9.93230325,  9.94359667,\n",
       "        9.9538523 ,  9.96307334,  9.97126266,  9.9784228 ,  9.98455598,\n",
       "        9.98966408,  9.99374868,  9.99681104,  9.99885209,  9.99987246,\n",
       "        9.99987246,  9.99885209,  9.99681104,  9.99374868,  9.98966408,\n",
       "        9.98455598,  9.9784228 ,  9.97126266,  9.96307334,  9.9538523 ,\n",
       "        9.94359667,  9.93230325,  9.91996849,  9.90658851,  9.89215905,\n",
       "        9.87667553,  9.86013297,  9.84252604,  9.82384901,  9.80409577,\n",
       "        9.7832598 ,  9.76133416,  9.73831149,  9.714184  ,  9.68894344,\n",
       "        9.66258107,  9.63508769,  9.60645359,  9.57666854,  9.54572176,\n",
       "        9.51360192,  9.4802971 ,  9.44579475,  9.41008171,  9.37314414,\n",
       "        9.3349675 ,  9.29553652,  9.25483518,  9.21284664,  9.16955321,\n",
       "        9.12493632,  9.07897646,  9.03165312,  8.98294476,  8.93282873,\n",
       "        8.88128118,  8.82827705,  8.77378994,  8.71779204,  8.66025404,\n",
       "       -8.66025404, -8.71779204, -8.77378994, -8.82827705, -8.88128118,\n",
       "       -8.93282873, -8.98294476, -9.03165312, -9.07897646, -9.12493632,\n",
       "       -9.16955321, -9.21284664, -9.25483518, -9.29553652, -9.3349675 ,\n",
       "       -9.37314414, -9.41008171, -9.44579475, -9.4802971 , -9.51360192,\n",
       "       -9.54572176, -9.57666854, -9.60645359, -9.63508769, -9.66258107,\n",
       "       -9.68894344, -9.714184  , -9.73831149, -9.76133416, -9.7832598 ,\n",
       "       -9.80409577, -9.82384901, -9.84252604, -9.86013297, -9.87667553,\n",
       "       -9.89215905, -9.90658851, -9.91996849, -9.93230325, -9.94359667,\n",
       "       -9.9538523 , -9.96307334, -9.97126266, -9.9784228 , -9.98455598,\n",
       "       -9.98966408, -9.99374868, -9.99681104, -9.99885209, -9.99987246,\n",
       "       -9.99987246, -9.99885209, -9.99681104, -9.99374868, -9.98966408,\n",
       "       -9.98455598, -9.9784228 , -9.97126266, -9.96307334, -9.9538523 ,\n",
       "       -9.94359667, -9.93230325, -9.91996849, -9.90658851, -9.89215905,\n",
       "       -9.87667553, -9.86013297, -9.84252604, -9.82384901, -9.80409577,\n",
       "       -9.7832598 , -9.76133416, -9.73831149, -9.714184  , -9.68894344,\n",
       "       -9.66258107, -9.63508769, -9.60645359, -9.57666854, -9.54572176,\n",
       "       -9.51360192, -9.4802971 , -9.44579475, -9.41008171, -9.37314414,\n",
       "       -9.3349675 , -9.29553652, -9.25483518, -9.21284664, -9.16955321,\n",
       "       -9.12493632, -9.07897646, -9.03165312, -8.98294476, -8.93282873,\n",
       "       -8.88128118, -8.82827705, -8.77378994, -8.71779204, -8.66025404])"
      ]
     },
     "execution_count": 3,
     "metadata": {},
     "output_type": "execute_result"
    }
   ],
   "source": [
    "y"
   ]
  },
  {
   "cell_type": "code",
   "execution_count": 4,
   "metadata": {},
   "outputs": [],
   "source": [
    "x1 = np.linspace(-5.0, 5.0, 100)\n",
    "y1 = np.sqrt(5**2 - x1**2)\n",
    "y1=np.hstack([y1,-y1])\n",
    "x1=np.hstack([x1,-x1])"
   ]
  },
  {
   "cell_type": "code",
   "execution_count": 7,
   "metadata": {},
   "outputs": [
    {
     "name": "stderr",
     "output_type": "stream",
     "text": [
      "C:\\Users\\salma\\AppData\\Local\\Temp\\ipykernel_34168\\4120039745.py:5: UserWarning: No artists with labels found to put in legend.  Note that artists whose label start with an underscore are ignored when legend() is called with no argument.\n",
      "  plt.legend()\n"
     ]
    },
    {
     "data": {
      "text/plain": [
       "<matplotlib.legend.Legend at 0x1ee2c6ee2c0>"
      ]
     },
     "execution_count": 7,
     "metadata": {},
     "output_type": "execute_result"
    },
    {
     "data": {
      "image/png": "[encoded data removed]",
      "text/plain": [
       "<Figure size 640x480 with 1 Axes>"
      ]
     },
     "metadata": {},
     "output_type": "display_data"
    }
   ],
   "source": [
    "plt.scatter(y,x)\n",
    "plt.scatter(y1,x1)\n",
    "plt.xlabel('y')\n",
    "plt.ylabel('x')\n",
    "plt.legend()"
   ]
  },
  {
   "cell_type": "code",
   "execution_count": 6,
   "metadata": {},
   "outputs": [
    {
     "data": {
      "text/plain": [
       "array([[ 8.66025404, -5.        ],\n",
       "       [ 8.71779204, -4.8989899 ],\n",
       "       [ 8.77378994, -4.7979798 ],\n",
       "       [ 8.82827705, -4.6969697 ],\n",
       "       [ 8.88128118, -4.5959596 ],\n",
       "       [ 8.93282873, -4.49494949],\n",
       "       [ 8.98294476, -4.39393939],\n",
       "       [ 9.03165312, -4.29292929],\n",
       "       [ 9.07897646, -4.19191919],\n",
       "       [ 9.12493632, -4.09090909],\n",
       "       [ 9.16955321, -3.98989899],\n",
       "       [ 9.21284664, -3.88888889],\n",
       "       [ 9.25483518, -3.78787879],\n",
       "       [ 9.29553652, -3.68686869],\n",
       "       [ 9.3349675 , -3.58585859],\n",
       "       [ 9.37314414, -3.48484848],\n",
       "       [ 9.41008171, -3.38383838],\n",
       "       [ 9.44579475, -3.28282828],\n",
       "       [ 9.4802971 , -3.18181818],\n",
       "       [ 9.51360192, -3.08080808],\n",
       "       [ 9.54572176, -2.97979798],\n",
       "       [ 9.57666854, -2.87878788],\n",
       "       [ 9.60645359, -2.77777778],\n",
       "       [ 9.63508769, -2.67676768],\n",
       "       [ 9.66258107, -2.57575758],\n",
       "       [ 9.68894344, -2.47474747],\n",
       "       [ 9.714184  , -2.37373737],\n",
       "       [ 9.73831149, -2.27272727],\n",
       "       [ 9.76133416, -2.17171717],\n",
       "       [ 9.7832598 , -2.07070707],\n",
       "       [ 9.80409577, -1.96969697],\n",
       "       [ 9.82384901, -1.86868687],\n",
       "       [ 9.84252604, -1.76767677],\n",
       "       [ 9.86013297, -1.66666667],\n",
       "       [ 9.87667553, -1.56565657],\n",
       "       [ 9.89215905, -1.46464646],\n",
       "       [ 9.90658851, -1.36363636],\n",
       "       [ 9.91996849, -1.26262626],\n",
       "       [ 9.93230325, -1.16161616],\n",
       "       [ 9.94359667, -1.06060606],\n",
       "       [ 9.9538523 , -0.95959596],\n",
       "       [ 9.96307334, -0.85858586],\n",
       "       [ 9.97126266, -0.75757576],\n",
       "       [ 9.9784228 , -0.65656566],\n",
       "       [ 9.98455598, -0.55555556],\n",
       "       [ 9.98966408, -0.45454545],\n",
       "       [ 9.99374868, -0.35353535],\n",
       "       [ 9.99681104, -0.25252525],\n",
       "       [ 9.99885209, -0.15151515],\n",
       "       [ 9.99987246, -0.05050505],\n",
       "       [ 9.99987246,  0.05050505],\n",
       "       [ 9.99885209,  0.15151515],\n",
       "       [ 9.99681104,  0.25252525],\n",
       "       [ 9.99374868,  0.35353535],\n",
       "       [ 9.98966408,  0.45454545],\n",
       "       [ 9.98455598,  0.55555556],\n",
       "       [ 9.9784228 ,  0.65656566],\n",
       "       [ 9.97126266,  0.75757576],\n",
       "       [ 9.96307334,  0.85858586],\n",
       "       [ 9.9538523 ,  0.95959596],\n",
       "       [ 9.94359667,  1.06060606],\n",
       "       [ 9.93230325,  1.16161616],\n",
       "       [ 9.91996849,  1.26262626],\n",
       "       [ 9.90658851,  1.36363636],\n",
       "       [ 9.89215905,  1.46464646],\n",
       "       [ 9.87667553,  1.56565657],\n",
       "       [ 9.86013297,  1.66666667],\n",
       "       [ 9.84252604,  1.76767677],\n",
       "       [ 9.82384901,  1.86868687],\n",
       "       [ 9.80409577,  1.96969697],\n",
       "       [ 9.7832598 ,  2.07070707],\n",
       "       [ 9.76133416,  2.17171717],\n",
       "       [ 9.73831149,  2.27272727],\n",
       "       [ 9.714184  ,  2.37373737],\n",
       "       [ 9.68894344,  2.47474747],\n",
       "       [ 9.66258107,  2.57575758],\n",
       "       [ 9.63508769,  2.67676768],\n",
       "       [ 9.60645359,  2.77777778],\n",
       "       [ 9.57666854,  2.87878788],\n",
       "       [ 9.54572176,  2.97979798],\n",
       "       [ 9.51360192,  3.08080808],\n",
       "       [ 9.4802971 ,  3.18181818],\n",
       "       [ 9.44579475,  3.28282828],\n",
       "       [ 9.41008171,  3.38383838],\n",
       "       [ 9.37314414,  3.48484848],\n",
       "       [ 9.3349675 ,  3.58585859],\n",
       "       [ 9.29553652,  3.68686869],\n",
       "       [ 9.25483518,  3.78787879],\n",
       "       [ 9.21284664,  3.88888889],\n",
       "       [ 9.16955321,  3.98989899],\n",
       "       [ 9.12493632,  4.09090909],\n",
       "       [ 9.07897646,  4.19191919],\n",
       "       [ 9.03165312,  4.29292929],\n",
       "       [ 8.98294476,  4.39393939],\n",
       "       [ 8.93282873,  4.49494949],\n",
       "       [ 8.88128118,  4.5959596 ],\n",
       "       [ 8.82827705,  4.6969697 ],\n",
       "       [ 8.77378994,  4.7979798 ],\n",
       "       [ 8.71779204,  4.8989899 ],\n",
       "       [ 8.66025404,  5.        ],\n",
       "       [-8.66025404,  5.        ],\n",
       "       [-8.71779204,  4.8989899 ],\n",
       "       [-8.77378994,  4.7979798 ],\n",
       "       [-8.82827705,  4.6969697 ],\n",
       "       [-8.88128118,  4.5959596 ],\n",
       "       [-8.93282873,  4.49494949],\n",
       "       [-8.98294476,  4.39393939],\n",
       "       [-9.03165312,  4.29292929],\n",
       "       [-9.07897646,  4.19191919],\n",
       "       [-9.12493632,  4.09090909],\n",
       "       [-9.16955321,  3.98989899],\n",
       "       [-9.21284664,  3.88888889],\n",
       "       [-9.25483518,  3.78787879],\n",
       "       [-9.29553652,  3.68686869],\n",
       "       [-9.3349675 ,  3.58585859],\n",
       "       [-9.37314414,  3.48484848],\n",
       "       [-9.41008171,  3.38383838],\n",
       "       [-9.44579475,  3.28282828],\n",
       "       [-9.4802971 ,  3.18181818],\n",
       "       [-9.51360192,  3.08080808],\n",
       "       [-9.54572176,  2.97979798],\n",
       "       [-9.57666854,  2.87878788],\n",
       "       [-9.60645359,  2.77777778],\n",
       "       [-9.63508769,  2.67676768],\n",
       "       [-9.66258107,  2.57575758],\n",
       "       [-9.68894344,  2.47474747],\n",
       "       [-9.714184  ,  2.37373737],\n",
       "       [-9.73831149,  2.27272727],\n",
       "       [-9.76133416,  2.17171717],\n",
       "       [-9.7832598 ,  2.07070707],\n",
       "       [-9.80409577,  1.96969697],\n",
       "       [-9.82384901,  1.86868687],\n",
       "       [-9.84252604,  1.76767677],\n",
       "       [-9.86013297,  1.66666667],\n",
       "       [-9.87667553,  1.56565657],\n",
       "       [-9.89215905,  1.46464646],\n",
       "       [-9.90658851,  1.36363636],\n",
       "       [-9.91996849,  1.26262626],\n",
       "       [-9.93230325,  1.16161616],\n",
       "       [-9.94359667,  1.06060606],\n",
       "       [-9.9538523 ,  0.95959596],\n",
       "       [-9.96307334,  0.85858586],\n",
       "       [-9.97126266,  0.75757576],\n",
       "       [-9.9784228 ,  0.65656566],\n",
       "       [-9.98455598,  0.55555556],\n",
       "       [-9.98966408,  0.45454545],\n",
       "       [-9.99374868,  0.35353535],\n",
       "       [-9.99681104,  0.25252525],\n",
       "       [-9.99885209,  0.15151515],\n",
       "       [-9.99987246,  0.05050505],\n",
       "       [-9.99987246, -0.05050505],\n",
       "       [-9.99885209, -0.15151515],\n",
       "       [-9.99681104, -0.25252525],\n",
       "       [-9.99374868, -0.35353535],\n",
       "       [-9.98966408, -0.45454545],\n",
       "       [-9.98455598, -0.55555556],\n",
       "       [-9.9784228 , -0.65656566],\n",
       "       [-9.97126266, -0.75757576],\n",
       "       [-9.96307334, -0.85858586],\n",
       "       [-9.9538523 , -0.95959596],\n",
       "       [-9.94359667, -1.06060606],\n",
       "       [-9.93230325, -1.16161616],\n",
       "       [-9.91996849, -1.26262626],\n",
       "       [-9.90658851, -1.36363636],\n",
       "       [-9.89215905, -1.46464646],\n",
       "       [-9.87667553, -1.56565657],\n",
       "       [-9.86013297, -1.66666667],\n",
       "       [-9.84252604, -1.76767677],\n",
       "       [-9.82384901, -1.86868687],\n",
       "       [-9.80409577, -1.96969697],\n",
       "       [-9.7832598 , -2.07070707],\n",
       "       [-9.76133416, -2.17171717],\n",
       "       [-9.73831149, -2.27272727],\n",
       "       [-9.714184  , -2.37373737],\n",
       "       [-9.68894344, -2.47474747],\n",
       "       [-9.66258107, -2.57575758],\n",
       "       [-9.63508769, -2.67676768],\n",
       "       [-9.60645359, -2.77777778],\n",
       "       [-9.57666854, -2.87878788],\n",
       "       [-9.54572176, -2.97979798],\n",
       "       [-9.51360192, -3.08080808],\n",
       "       [-9.4802971 , -3.18181818],\n",
       "       [-9.44579475, -3.28282828],\n",
       "       [-9.41008171, -3.38383838],\n",
       "       [-9.37314414, -3.48484848],\n",
       "       [-9.3349675 , -3.58585859],\n",
       "       [-9.29553652, -3.68686869],\n",
       "       [-9.25483518, -3.78787879],\n",
       "       [-9.21284664, -3.88888889],\n",
       "       [-9.16955321, -3.98989899],\n",
       "       [-9.12493632, -4.09090909],\n",
       "       [-9.07897646, -4.19191919],\n",
       "       [-9.03165312, -4.29292929],\n",
       "       [-8.98294476, -4.39393939],\n",
       "       [-8.93282873, -4.49494949],\n",
       "       [-8.88128118, -4.5959596 ],\n",
       "       [-8.82827705, -4.6969697 ],\n",
       "       [-8.77378994, -4.7979798 ],\n",
       "       [-8.71779204, -4.8989899 ],\n",
       "       [-8.66025404, -5.        ]])"
      ]
     },
     "execution_count": 6,
     "metadata": {},
     "output_type": "execute_result"
    }
   ],
   "source": [
    "np.vstack([y,x]).T"
   ]
  },
  {
   "cell_type": "code",
   "execution_count": 11,
   "metadata": {},
   "outputs": [
    {
     "data": {
      "text/html": [
       "<div>\n",
       "<style scoped>\n",
       "    .dataframe tbody tr th:only-of-type {\n",
       "        vertical-align: middle;\n",
       "    }\n",
       "\n",
       "    .dataframe tbody tr th {\n",
       "        vertical-align: top;\n",
       "    }\n",
       "\n",
       "    .dataframe thead th {\n",
       "        text-align: right;\n",
       "    }\n",
       "</style>\n",
       "<table border=\"1\" class=\"dataframe\">\n",
       "  <thead>\n",
       "    <tr style=\"text-align: right;\">\n",
       "      <th></th>\n",
       "      <th>X1</th>\n",
       "      <th>X2</th>\n",
       "      <th>Y</th>\n",
       "    </tr>\n",
       "  </thead>\n",
       "  <tbody>\n",
       "    <tr>\n",
       "      <th>0</th>\n",
       "      <td>8.660254</td>\n",
       "      <td>-5.00000</td>\n",
       "      <td>0</td>\n",
       "    </tr>\n",
       "    <tr>\n",
       "      <th>1</th>\n",
       "      <td>8.717792</td>\n",
       "      <td>-4.89899</td>\n",
       "      <td>0</td>\n",
       "    </tr>\n",
       "    <tr>\n",
       "      <th>2</th>\n",
       "      <td>8.773790</td>\n",
       "      <td>-4.79798</td>\n",
       "      <td>0</td>\n",
       "    </tr>\n",
       "    <tr>\n",
       "      <th>3</th>\n",
       "      <td>8.828277</td>\n",
       "      <td>-4.69697</td>\n",
       "      <td>0</td>\n",
       "    </tr>\n",
       "    <tr>\n",
       "      <th>4</th>\n",
       "      <td>8.881281</td>\n",
       "      <td>-4.59596</td>\n",
       "      <td>0</td>\n",
       "    </tr>\n",
       "  </tbody>\n",
       "</table>\n",
       "</div>"
      ],
      "text/plain": [
       "         X1       X2  Y\n",
       "0  8.660254 -5.00000  0\n",
       "1  8.717792 -4.89899  0\n",
       "2  8.773790 -4.79798  0\n",
       "3  8.828277 -4.69697  0\n",
       "4  8.881281 -4.59596  0"
      ]
     },
     "execution_count": 11,
     "metadata": {},
     "output_type": "execute_result"
    }
   ],
   "source": [
    "import pandas as pd\n",
    "df1 =pd.DataFrame(np.vstack([y,x]).T,columns=['X1','X2'])\n",
    "df1['Y']=0\n",
    "df2 =pd.DataFrame(np.vstack([y1,x1]).T,columns=['X1','X2'])\n",
    "df2['Y']=1\n",
    "df = pd.concat([df1, df2])\n",
    "df.head(5)"
   ]
  },
  {
   "cell_type": "code",
   "execution_count": 8,
   "metadata": {},
   "outputs": [
    {
     "data": {
      "text/html": [
       "<div>\n",
       "<style scoped>\n",
       "    .dataframe tbody tr th:only-of-type {\n",
       "        vertical-align: middle;\n",
       "    }\n",
       "\n",
       "    .dataframe tbody tr th {\n",
       "        vertical-align: top;\n",
       "    }\n",
       "\n",
       "    .dataframe thead th {\n",
       "        text-align: right;\n",
       "    }\n",
       "</style>\n",
       "<table border=\"1\" class=\"dataframe\">\n",
       "  <thead>\n",
       "    <tr style=\"text-align: right;\">\n",
       "      <th></th>\n",
       "      <th>X1</th>\n",
       "      <th>X2</th>\n",
       "      <th>Y</th>\n",
       "    </tr>\n",
       "  </thead>\n",
       "  <tbody>\n",
       "    <tr>\n",
       "      <th>195</th>\n",
       "      <td>-1.969049</td>\n",
       "      <td>-4.59596</td>\n",
       "      <td>1</td>\n",
       "    </tr>\n",
       "    <tr>\n",
       "      <th>196</th>\n",
       "      <td>-1.714198</td>\n",
       "      <td>-4.69697</td>\n",
       "      <td>1</td>\n",
       "    </tr>\n",
       "    <tr>\n",
       "      <th>197</th>\n",
       "      <td>-1.406908</td>\n",
       "      <td>-4.79798</td>\n",
       "      <td>1</td>\n",
       "    </tr>\n",
       "    <tr>\n",
       "      <th>198</th>\n",
       "      <td>-0.999949</td>\n",
       "      <td>-4.89899</td>\n",
       "      <td>1</td>\n",
       "    </tr>\n",
       "    <tr>\n",
       "      <th>199</th>\n",
       "      <td>-0.000000</td>\n",
       "      <td>-5.00000</td>\n",
       "      <td>1</td>\n",
       "    </tr>\n",
       "  </tbody>\n",
       "</table>\n",
       "</div>"
      ],
      "text/plain": [
       "           X1       X2  Y\n",
       "195 -1.969049 -4.59596  1\n",
       "196 -1.714198 -4.69697  1\n",
       "197 -1.406908 -4.79798  1\n",
       "198 -0.999949 -4.89899  1\n",
       "199 -0.000000 -5.00000  1"
      ]
     },
     "execution_count": 8,
     "metadata": {},
     "output_type": "execute_result"
    }
   ],
   "source": [
    "df.tail()"
   ]
  },
  {
   "cell_type": "code",
   "execution_count": 12,
   "metadata": {},
   "outputs": [],
   "source": [
    "### Independent and Dependent features\n",
    "X = df.iloc[:, :2]  \n",
    "y = df.Y"
   ]
  },
  {
   "cell_type": "code",
   "execution_count": 10,
   "metadata": {},
   "outputs": [
    {
     "data": {
      "text/plain": [
       "0      0\n",
       "1      0\n",
       "2      0\n",
       "3      0\n",
       "4      0\n",
       "      ..\n",
       "195    1\n",
       "196    1\n",
       "197    1\n",
       "198    1\n",
       "199    1\n",
       "Name: Y, Length: 400, dtype: int64"
      ]
     },
     "execution_count": 10,
     "metadata": {},
     "output_type": "execute_result"
    }
   ],
   "source": [
    "y"
   ]
  },
  {
   "cell_type": "code",
   "execution_count": 13,
   "metadata": {},
   "outputs": [],
   "source": [
    "## Split the dataset into train and test\n",
    "from sklearn.model_selection import train_test_split\n",
    "X_train,X_test,y_train,y_test=train_test_split(X,y,test_size=0.25,random_state=0)"
   ]
  },
  {
   "cell_type": "code",
   "execution_count": 12,
   "metadata": {},
   "outputs": [
    {
     "data": {
      "text/plain": [
       "50     1\n",
       "63     0\n",
       "112    1\n",
       "159    0\n",
       "83     1\n",
       "      ..\n",
       "123    1\n",
       "192    0\n",
       "117    0\n",
       "47     0\n",
       "172    0\n",
       "Name: Y, Length: 300, dtype: int64"
      ]
     },
     "execution_count": 12,
     "metadata": {},
     "output_type": "execute_result"
    }
   ],
   "source": [
    "y_train"
   ]
  },
  {
   "attachments": {
    "image.png": {
     "image/png": "[encoded data removed]"
    }
   },
   "cell_type": "markdown",
   "metadata": {},
   "source": [
    "### Polynomial Kernel\n",
    "![image.png](attachment:image.png)"
   ]
  },
  {
   "cell_type": "code",
   "execution_count": 14,
   "metadata": {},
   "outputs": [
    {
     "data": {
      "text/html": [
       "<div>\n",
       "<style scoped>\n",
       "    .dataframe tbody tr th:only-of-type {\n",
       "        vertical-align: middle;\n",
       "    }\n",
       "\n",
       "    .dataframe tbody tr th {\n",
       "        vertical-align: top;\n",
       "    }\n",
       "\n",
       "    .dataframe thead th {\n",
       "        text-align: right;\n",
       "    }\n",
       "</style>\n",
       "<table border=\"1\" class=\"dataframe\">\n",
       "  <thead>\n",
       "    <tr style=\"text-align: right;\">\n",
       "      <th></th>\n",
       "      <th>X1</th>\n",
       "      <th>X2</th>\n",
       "      <th>Y</th>\n",
       "      <th>X1_Square</th>\n",
       "      <th>X2_Square</th>\n",
       "      <th>X1*X2</th>\n",
       "    </tr>\n",
       "  </thead>\n",
       "  <tbody>\n",
       "    <tr>\n",
       "      <th>0</th>\n",
       "      <td>8.660254</td>\n",
       "      <td>-5.00000</td>\n",
       "      <td>0</td>\n",
       "      <td>75.000000</td>\n",
       "      <td>25.000000</td>\n",
       "      <td>-43.301270</td>\n",
       "    </tr>\n",
       "    <tr>\n",
       "      <th>1</th>\n",
       "      <td>8.717792</td>\n",
       "      <td>-4.89899</td>\n",
       "      <td>0</td>\n",
       "      <td>75.999898</td>\n",
       "      <td>24.000102</td>\n",
       "      <td>-42.708375</td>\n",
       "    </tr>\n",
       "    <tr>\n",
       "      <th>2</th>\n",
       "      <td>8.773790</td>\n",
       "      <td>-4.79798</td>\n",
       "      <td>0</td>\n",
       "      <td>76.979390</td>\n",
       "      <td>23.020610</td>\n",
       "      <td>-42.096467</td>\n",
       "    </tr>\n",
       "    <tr>\n",
       "      <th>3</th>\n",
       "      <td>8.828277</td>\n",
       "      <td>-4.69697</td>\n",
       "      <td>0</td>\n",
       "      <td>77.938476</td>\n",
       "      <td>22.061524</td>\n",
       "      <td>-41.466150</td>\n",
       "    </tr>\n",
       "    <tr>\n",
       "      <th>4</th>\n",
       "      <td>8.881281</td>\n",
       "      <td>-4.59596</td>\n",
       "      <td>0</td>\n",
       "      <td>78.877155</td>\n",
       "      <td>21.122845</td>\n",
       "      <td>-40.818009</td>\n",
       "    </tr>\n",
       "  </tbody>\n",
       "</table>\n",
       "</div>"
      ],
      "text/plain": [
       "         X1       X2  Y  X1_Square  X2_Square      X1*X2\n",
       "0  8.660254 -5.00000  0  75.000000  25.000000 -43.301270\n",
       "1  8.717792 -4.89899  0  75.999898  24.000102 -42.708375\n",
       "2  8.773790 -4.79798  0  76.979390  23.020610 -42.096467\n",
       "3  8.828277 -4.69697  0  77.938476  22.061524 -41.466150\n",
       "4  8.881281 -4.59596  0  78.877155  21.122845 -40.818009"
      ]
     },
     "execution_count": 14,
     "metadata": {},
     "output_type": "execute_result"
    }
   ],
   "source": [
    "# We need to find components for the Polynomical Kernel\n",
    "#X1,X2,X1_square,X2_square,X1*X2\n",
    "df['X1_Square']= df['X1']**2\n",
    "df['X2_Square']= df['X2']**2\n",
    "df['X1*X2'] = (df['X1'] *df['X2'])\n",
    "df.head()"
   ]
  },
  {
   "cell_type": "code",
   "execution_count": 24,
   "metadata": {},
   "outputs": [],
   "source": [
    "### Independent and Dependent features\n",
    "X = df[['X1','X2','X1_Square','X2_Square','X1*X2']]\n",
    "y = df['Y']"
   ]
  },
  {
   "cell_type": "code",
   "execution_count": 25,
   "metadata": {},
   "outputs": [],
   "source": [
    "\n",
    "X_train, X_test, y_train, y_test = train_test_split(X, y, \n",
    "                                                    test_size = 0.25, \n",
    "                                                    random_state = 0)\n"
   ]
  },
  {
   "cell_type": "code",
   "execution_count": 16,
   "metadata": {},
   "outputs": [
    {
     "data": {
      "text/html": [
       "<div>\n",
       "<style scoped>\n",
       "    .dataframe tbody tr th:only-of-type {\n",
       "        vertical-align: middle;\n",
       "    }\n",
       "\n",
       "    .dataframe tbody tr th {\n",
       "        vertical-align: top;\n",
       "    }\n",
       "\n",
       "    .dataframe thead th {\n",
       "        text-align: right;\n",
       "    }\n",
       "</style>\n",
       "<table border=\"1\" class=\"dataframe\">\n",
       "  <thead>\n",
       "    <tr style=\"text-align: right;\">\n",
       "      <th></th>\n",
       "      <th>X1</th>\n",
       "      <th>X2</th>\n",
       "      <th>X1_Square</th>\n",
       "      <th>X2_Square</th>\n",
       "      <th>X1*X2</th>\n",
       "    </tr>\n",
       "  </thead>\n",
       "  <tbody>\n",
       "    <tr>\n",
       "      <th>50</th>\n",
       "      <td>4.999745</td>\n",
       "      <td>0.050505</td>\n",
       "      <td>24.997449</td>\n",
       "      <td>0.002551</td>\n",
       "      <td>0.252512</td>\n",
       "    </tr>\n",
       "    <tr>\n",
       "      <th>63</th>\n",
       "      <td>9.906589</td>\n",
       "      <td>1.363636</td>\n",
       "      <td>98.140496</td>\n",
       "      <td>1.859504</td>\n",
       "      <td>13.508984</td>\n",
       "    </tr>\n",
       "    <tr>\n",
       "      <th>112</th>\n",
       "      <td>-3.263736</td>\n",
       "      <td>3.787879</td>\n",
       "      <td>10.651974</td>\n",
       "      <td>14.348026</td>\n",
       "      <td>-12.362637</td>\n",
       "    </tr>\n",
       "    <tr>\n",
       "      <th>159</th>\n",
       "      <td>-9.953852</td>\n",
       "      <td>-0.959596</td>\n",
       "      <td>99.079176</td>\n",
       "      <td>0.920824</td>\n",
       "      <td>9.551676</td>\n",
       "    </tr>\n",
       "    <tr>\n",
       "      <th>83</th>\n",
       "      <td>3.680983</td>\n",
       "      <td>3.383838</td>\n",
       "      <td>13.549638</td>\n",
       "      <td>11.450362</td>\n",
       "      <td>12.455852</td>\n",
       "    </tr>\n",
       "    <tr>\n",
       "      <th>...</th>\n",
       "      <td>...</td>\n",
       "      <td>...</td>\n",
       "      <td>...</td>\n",
       "      <td>...</td>\n",
       "      <td>...</td>\n",
       "    </tr>\n",
       "    <tr>\n",
       "      <th>123</th>\n",
       "      <td>-4.223140</td>\n",
       "      <td>2.676768</td>\n",
       "      <td>17.834915</td>\n",
       "      <td>7.165085</td>\n",
       "      <td>-11.304366</td>\n",
       "    </tr>\n",
       "    <tr>\n",
       "      <th>192</th>\n",
       "      <td>-9.031653</td>\n",
       "      <td>-4.292929</td>\n",
       "      <td>81.570758</td>\n",
       "      <td>18.429242</td>\n",
       "      <td>38.772248</td>\n",
       "    </tr>\n",
       "    <tr>\n",
       "      <th>117</th>\n",
       "      <td>-9.445795</td>\n",
       "      <td>3.282828</td>\n",
       "      <td>89.223038</td>\n",
       "      <td>10.776962</td>\n",
       "      <td>-31.008922</td>\n",
       "    </tr>\n",
       "    <tr>\n",
       "      <th>47</th>\n",
       "      <td>9.996811</td>\n",
       "      <td>-0.252525</td>\n",
       "      <td>99.936231</td>\n",
       "      <td>0.063769</td>\n",
       "      <td>-2.524447</td>\n",
       "    </tr>\n",
       "    <tr>\n",
       "      <th>172</th>\n",
       "      <td>-9.738311</td>\n",
       "      <td>-2.272727</td>\n",
       "      <td>94.834711</td>\n",
       "      <td>5.165289</td>\n",
       "      <td>22.132526</td>\n",
       "    </tr>\n",
       "  </tbody>\n",
       "</table>\n",
       "<p>300 rows × 5 columns</p>\n",
       "</div>"
      ],
      "text/plain": [
       "           X1        X2  X1_Square  X2_Square      X1*X2\n",
       "50   4.999745  0.050505  24.997449   0.002551   0.252512\n",
       "63   9.906589  1.363636  98.140496   1.859504  13.508984\n",
       "112 -3.263736  3.787879  10.651974  14.348026 -12.362637\n",
       "159 -9.953852 -0.959596  99.079176   0.920824   9.551676\n",
       "83   3.680983  3.383838  13.549638  11.450362  12.455852\n",
       "..        ...       ...        ...        ...        ...\n",
       "123 -4.223140  2.676768  17.834915   7.165085 -11.304366\n",
       "192 -9.031653 -4.292929  81.570758  18.429242  38.772248\n",
       "117 -9.445795  3.282828  89.223038  10.776962 -31.008922\n",
       "47   9.996811 -0.252525  99.936231   0.063769  -2.524447\n",
       "172 -9.738311 -2.272727  94.834711   5.165289  22.132526\n",
       "\n",
       "[300 rows x 5 columns]"
      ]
     },
     "execution_count": 16,
     "metadata": {},
     "output_type": "execute_result"
    }
   ],
   "source": [
    "X_train"
   ]
  },
  {
   "cell_type": "code",
   "execution_count": 26,
   "metadata": {},
   "outputs": [
    {
     "ename": "ValueError",
     "evalue": "Mime type rendering requires nbformat>=4.2.0 but it is not installed",
     "output_type": "error",
     "traceback": [
      "\u001b[1;31m---------------------------------------------------------------------------\u001b[0m",
      "\u001b[1;31mValueError\u001b[0m                                Traceback (most recent call last)",
      "File \u001b[1;32m~\\AppData\\Roaming\\Python\\Python310\\site-packages\\IPython\\core\\formatters.py:984\u001b[0m, in \u001b[0;36mIPythonDisplayFormatter.__call__\u001b[1;34m(self, obj)\u001b[0m\n\u001b[0;32m    982\u001b[0m method \u001b[38;5;241m=\u001b[39m get_real_method(obj, \u001b[38;5;28mself\u001b[39m\u001b[38;5;241m.\u001b[39mprint_method)\n\u001b[0;32m    983\u001b[0m \u001b[38;5;28;01mif\u001b[39;00m method \u001b[38;5;129;01mis\u001b[39;00m \u001b[38;5;129;01mnot\u001b[39;00m \u001b[38;5;28;01mNone\u001b[39;00m:\n\u001b[1;32m--> 984\u001b[0m     \u001b[43mmethod\u001b[49m\u001b[43m(\u001b[49m\u001b[43m)\u001b[49m\n\u001b[0;32m    985\u001b[0m     \u001b[38;5;28;01mreturn\u001b[39;00m \u001b[38;5;28;01mTrue\u001b[39;00m\n",
      "File \u001b[1;32mc:\\Users\\salma\\AppData\\Local\\Programs\\Python\\Python310\\lib\\site-packages\\plotly\\basedatatypes.py:846\u001b[0m, in \u001b[0;36mBaseFigure._ipython_display_\u001b[1;34m(self)\u001b[0m\n\u001b[0;32m    843\u001b[0m \u001b[38;5;28;01mimport\u001b[39;00m\u001b[38;5;250m \u001b[39m\u001b[38;5;21;01mplotly\u001b[39;00m\u001b[38;5;21;01m.\u001b[39;00m\u001b[38;5;21;01mio\u001b[39;00m\u001b[38;5;250m \u001b[39m\u001b[38;5;28;01mas\u001b[39;00m\u001b[38;5;250m \u001b[39m\u001b[38;5;21;01mpio\u001b[39;00m\n\u001b[0;32m    845\u001b[0m \u001b[38;5;28;01mif\u001b[39;00m pio\u001b[38;5;241m.\u001b[39mrenderers\u001b[38;5;241m.\u001b[39mrender_on_display \u001b[38;5;129;01mand\u001b[39;00m pio\u001b[38;5;241m.\u001b[39mrenderers\u001b[38;5;241m.\u001b[39mdefault:\n\u001b[1;32m--> 846\u001b[0m     \u001b[43mpio\u001b[49m\u001b[38;5;241;43m.\u001b[39;49m\u001b[43mshow\u001b[49m\u001b[43m(\u001b[49m\u001b[38;5;28;43mself\u001b[39;49m\u001b[43m)\u001b[49m\n\u001b[0;32m    847\u001b[0m \u001b[38;5;28;01melse\u001b[39;00m:\n\u001b[0;32m    848\u001b[0m     \u001b[38;5;28mprint\u001b[39m(\u001b[38;5;28mrepr\u001b[39m(\u001b[38;5;28mself\u001b[39m))\n",
      "File \u001b[1;32mc:\\Users\\salma\\AppData\\Local\\Programs\\Python\\Python310\\lib\\site-packages\\plotly\\io\\_renderers.py:425\u001b[0m, in \u001b[0;36mshow\u001b[1;34m(fig, renderer, validate, **kwargs)\u001b[0m\n\u001b[0;32m    420\u001b[0m     \u001b[38;5;28;01mraise\u001b[39;00m \u001b[38;5;167;01mValueError\u001b[39;00m(\n\u001b[0;32m    421\u001b[0m         \u001b[38;5;124m\"\u001b[39m\u001b[38;5;124mMime type rendering requires ipython but it is not installed\u001b[39m\u001b[38;5;124m\"\u001b[39m\n\u001b[0;32m    422\u001b[0m     )\n\u001b[0;32m    424\u001b[0m \u001b[38;5;28;01mif\u001b[39;00m \u001b[38;5;129;01mnot\u001b[39;00m nbformat \u001b[38;5;129;01mor\u001b[39;00m Version(nbformat\u001b[38;5;241m.\u001b[39m__version__) \u001b[38;5;241m<\u001b[39m Version(\u001b[38;5;124m\"\u001b[39m\u001b[38;5;124m4.2.0\u001b[39m\u001b[38;5;124m\"\u001b[39m):\n\u001b[1;32m--> 425\u001b[0m     \u001b[38;5;28;01mraise\u001b[39;00m \u001b[38;5;167;01mValueError\u001b[39;00m(\n\u001b[0;32m    426\u001b[0m         \u001b[38;5;124m\"\u001b[39m\u001b[38;5;124mMime type rendering requires nbformat>=4.2.0 but it is not installed\u001b[39m\u001b[38;5;124m\"\u001b[39m\n\u001b[0;32m    427\u001b[0m     )\n\u001b[0;32m    429\u001b[0m display_jupyter_version_warnings()\n\u001b[0;32m    431\u001b[0m ipython_display\u001b[38;5;241m.\u001b[39mdisplay(bundle, raw\u001b[38;5;241m=\u001b[39m\u001b[38;5;28;01mTrue\u001b[39;00m)\n",
      "\u001b[1;31mValueError\u001b[0m: Mime type rendering requires nbformat>=4.2.0 but it is not installed"
     ]
    },
    {
     "data": {
      "application/vnd.plotly.v1+json": {
       "config": {
        "plotlyServerURL": "https://plot.ly"
       },
       "data": [
        {
         "hovertemplate": "X1=%{x}<br>X2=%{y}<br>X1*X2=%{z}<br>Y=%{marker.color}<extra></extra>",
         "legendgroup": "",
         "marker": {
          "color": {
           "bdata": "AAAAAAAAAAAAAAAAAAAAAAAAAAAAAAAAAAAAAAAAAAAAAAAAAAAAAAAAAAAAAAAAAAAAAAAAAAAAAAAAAAAAAAAAAAAAAAAAAAAAAAAAAAAAAAAAAAAAAAAAAAAAAAAAAAAAAAAAAAAAAAAAAAAAAAAAAAAAAAAAAAAAAAAAAAAAAAAAAAAAAAAAAAAAAAAAAAAAAAAAAAAAAAAAAAAAAAAAAAAAAAAAAAAAAAAAAAAAAAAAAAAAAAAAAAAAAAAAAAAAAAAAAAABAQEBAQEBAQEBAQEBAQEBAQEBAQEBAQEBAQEBAQEBAQEBAQEBAQEBAQEBAQEBAQEBAQEBAQEBAQEBAQEBAQEBAQEBAQEBAQEBAQEBAQEBAQEBAQEBAQEBAQEBAQEBAQEBAQEBAQEBAQEBAQEBAQEBAQEBAQEBAQEBAQEBAQEBAQEBAQEBAQEBAQEBAQEBAQEBAQEBAQEBAQEBAQEBAQEBAQEBAQEBAQEBAQEBAQEBAQEBAQEBAQEBAQEBAQEBAQEBAQEBAQEBAQ==",
           "dtype": "i1"
          },
          "coloraxis": "coloraxis",
          "symbol": "circle"
         },
         "mode": "markers",
         "name": "",
         "scene": "scene",
         "showlegend": false,
         "type": "scatter3d",
         "x": {
          "bdata": "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",
          "dtype": "f8"
         },
         "y": {
          "bdata": "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",
          "dtype": "f8"
         },
         "z": {
          "bdata": "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",
          "dtype": "f8"
         }
        }
       ],
       "layout": {
        "coloraxis": {
         "colorbar": {
          "title": {
           "text": "Y"
          }
         },
         "colorscale": [
          [
           0,
           "#0d0887"
          ],
          [
           0.1111111111111111,
           "#46039f"
          ],
          [
           0.2222222222222222,
           "#7201a8"
          ],
          [
           0.3333333333333333,
           "#9c179e"
          ],
          [
           0.4444444444444444,
           "#bd3786"
          ],
          [
           0.5555555555555556,
           "#d8576b"
          ],
          [
           0.6666666666666666,
           "#ed7953"
          ],
          [
           0.7777777777777778,
           "#fb9f3a"
          ],
          [
           0.8888888888888888,
           "#fdca26"
          ],
          [
           1,
           "#f0f921"
          ]
         ]
        },
        "legend": {
         "tracegroupgap": 0
        },
        "margin": {
         "t": 60
        },
        "scene": {
         "domain": {
          "x": [
           0,
           1
          ],
          "y": [
           0,
           1
          ]
         },
         "xaxis": {
          "title": {
           "text": "X1"
          }
         },
         "yaxis": {
          "title": {
           "text": "X2"
          }
         },
         "zaxis": {
          "title": {
           "text": "X1*X2"
          }
         }
        },
        "template": {
         "data": {
          "bar": [
           {
            "error_x": {
             "color": "#2a3f5f"
            },
            "error_y": {
             "color": "#2a3f5f"
            },
            "marker": {
             "line": {
              "color": "#E5ECF6",
              "width": 0.5
             },
             "pattern": {
              "fillmode": "overlay",
              "size": 10,
              "solidity": 0.2
             }
            },
            "type": "bar"
           }
          ],
          "barpolar": [
           {
            "marker": {
             "line": {
              "color": "#E5ECF6",
              "width": 0.5
             },
             "pattern": {
              "fillmode": "overlay",
              "size": 10,
              "solidity": 0.2
             }
            },
            "type": "barpolar"
           }
          ],
          "carpet": [
           {
            "aaxis": {
             "endlinecolor": "#2a3f5f",
             "gridcolor": "white",
             "linecolor": "white",
             "minorgridcolor": "white",
             "startlinecolor": "#2a3f5f"
            },
            "baxis": {
             "endlinecolor": "#2a3f5f",
             "gridcolor": "white",
             "linecolor": "white",
             "minorgridcolor": "white",
             "startlinecolor": "#2a3f5f"
            },
            "type": "carpet"
           }
          ],
          "choropleth": [
           {
            "colorbar": {
             "outlinewidth": 0,
             "ticks": ""
            },
            "type": "choropleth"
           }
          ],
          "contour": [
           {
            "colorbar": {
             "outlinewidth": 0,
             "ticks": ""
            },
            "colorscale": [
             [
              0,
              "#0d0887"
             ],
             [
              0.1111111111111111,
              "#46039f"
             ],
             [
              0.2222222222222222,
              "#7201a8"
             ],
             [
              0.3333333333333333,
              "#9c179e"
             ],
             [
              0.4444444444444444,
              "#bd3786"
             ],
             [
              0.5555555555555556,
              "#d8576b"
             ],
             [
              0.6666666666666666,
              "#ed7953"
             ],
             [
              0.7777777777777778,
              "#fb9f3a"
             ],
             [
              0.8888888888888888,
              "#fdca26"
             ],
             [
              1,
              "#f0f921"
             ]
            ],
            "type": "contour"
           }
          ],
          "contourcarpet": [
           {
            "colorbar": {
             "outlinewidth": 0,
             "ticks": ""
            },
            "type": "contourcarpet"
           }
          ],
          "heatmap": [
           {
            "colorbar": {
             "outlinewidth": 0,
             "ticks": ""
            },
            "colorscale": [
             [
              0,
              "#0d0887"
             ],
             [
              0.1111111111111111,
              "#46039f"
             ],
             [
              0.2222222222222222,
              "#7201a8"
             ],
             [
              0.3333333333333333,
              "#9c179e"
             ],
             [
              0.4444444444444444,
              "#bd3786"
             ],
             [
              0.5555555555555556,
              "#d8576b"
             ],
             [
              0.6666666666666666,
              "#ed7953"
             ],
             [
              0.7777777777777778,
              "#fb9f3a"
             ],
             [
              0.8888888888888888,
              "#fdca26"
             ],
             [
              1,
              "#f0f921"
             ]
            ],
            "type": "heatmap"
           }
          ],
          "histogram": [
           {
            "marker": {
             "pattern": {
              "fillmode": "overlay",
              "size": 10,
              "solidity": 0.2
             }
            },
            "type": "histogram"
           }
          ],
          "histogram2d": [
           {
            "colorbar": {
             "outlinewidth": 0,
             "ticks": ""
            },
            "colorscale": [
             [
              0,
              "#0d0887"
             ],
             [
              0.1111111111111111,
              "#46039f"
             ],
             [
              0.2222222222222222,
              "#7201a8"
             ],
             [
              0.3333333333333333,
              "#9c179e"
             ],
             [
              0.4444444444444444,
              "#bd3786"
             ],
             [
              0.5555555555555556,
              "#d8576b"
             ],
             [
              0.6666666666666666,
              "#ed7953"
             ],
             [
              0.7777777777777778,
              "#fb9f3a"
             ],
             [
              0.8888888888888888,
              "#fdca26"
             ],
             [
              1,
              "#f0f921"
             ]
            ],
            "type": "histogram2d"
           }
          ],
          "histogram2dcontour": [
           {
            "colorbar": {
             "outlinewidth": 0,
             "ticks": ""
            },
            "colorscale": [
             [
              0,
              "#0d0887"
             ],
             [
              0.1111111111111111,
              "#46039f"
             ],
             [
              0.2222222222222222,
              "#7201a8"
             ],
             [
              0.3333333333333333,
              "#9c179e"
             ],
             [
              0.4444444444444444,
              "#bd3786"
             ],
             [
              0.5555555555555556,
              "#d8576b"
             ],
             [
              0.6666666666666666,
              "#ed7953"
             ],
             [
              0.7777777777777778,
              "#fb9f3a"
             ],
             [
              0.8888888888888888,
              "#fdca26"
             ],
             [
              1,
              "#f0f921"
             ]
            ],
            "type": "histogram2dcontour"
           }
          ],
          "mesh3d": [
           {
            "colorbar": {
             "outlinewidth": 0,
             "ticks": ""
            },
            "type": "mesh3d"
           }
          ],
          "parcoords": [
           {
            "line": {
             "colorbar": {
              "outlinewidth": 0,
              "ticks": ""
             }
            },
            "type": "parcoords"
           }
          ],
          "pie": [
           {
            "automargin": true,
            "type": "pie"
           }
          ],
          "scatter": [
           {
            "fillpattern": {
             "fillmode": "overlay",
             "size": 10,
             "solidity": 0.2
            },
            "type": "scatter"
           }
          ],
          "scatter3d": [
           {
            "line": {
             "colorbar": {
              "outlinewidth": 0,
              "ticks": ""
             }
            },
            "marker": {
             "colorbar": {
              "outlinewidth": 0,
              "ticks": ""
             }
            },
            "type": "scatter3d"
           }
          ],
          "scattercarpet": [
           {
            "marker": {
             "colorbar": {
              "outlinewidth": 0,
              "ticks": ""
             }
            },
            "type": "scattercarpet"
           }
          ],
          "scattergeo": [
           {
            "marker": {
             "colorbar": {
              "outlinewidth": 0,
              "ticks": ""
             }
            },
            "type": "scattergeo"
           }
          ],
          "scattergl": [
           {
            "marker": {
             "colorbar": {
              "outlinewidth": 0,
              "ticks": ""
             }
            },
            "type": "scattergl"
           }
          ],
          "scattermap": [
           {
            "marker": {
             "colorbar": {
              "outlinewidth": 0,
              "ticks": ""
             }
            },
            "type": "scattermap"
           }
          ],
          "scattermapbox": [
           {
            "marker": {
             "colorbar": {
              "outlinewidth": 0,
              "ticks": ""
             }
            },
            "type": "scattermapbox"
           }
          ],
          "scatterpolar": [
           {
            "marker": {
             "colorbar": {
              "outlinewidth": 0,
              "ticks": ""
             }
            },
            "type": "scatterpolar"
           }
          ],
          "scatterpolargl": [
           {
            "marker": {
             "colorbar": {
              "outlinewidth": 0,
              "ticks": ""
             }
            },
            "type": "scatterpolargl"
           }
          ],
          "scatterternary": [
           {
            "marker": {
             "colorbar": {
              "outlinewidth": 0,
              "ticks": ""
             }
            },
            "type": "scatterternary"
           }
          ],
          "surface": [
           {
            "colorbar": {
             "outlinewidth": 0,
             "ticks": ""
            },
            "colorscale": [
             [
              0,
              "#0d0887"
             ],
             [
              0.1111111111111111,
              "#46039f"
             ],
             [
              0.2222222222222222,
              "#7201a8"
             ],
             [
              0.3333333333333333,
              "#9c179e"
             ],
             [
              0.4444444444444444,
              "#bd3786"
             ],
             [
              0.5555555555555556,
              "#d8576b"
             ],
             [
              0.6666666666666666,
              "#ed7953"
             ],
             [
              0.7777777777777778,
              "#fb9f3a"
             ],
             [
              0.8888888888888888,
              "#fdca26"
             ],
             [
              1,
              "#f0f921"
             ]
            ],
            "type": "surface"
           }
          ],
          "table": [
           {
            "cells": {
             "fill": {
              "color": "#EBF0F8"
             },
             "line": {
              "color": "white"
             }
            },
            "header": {
             "fill": {
              "color": "#C8D4E3"
             },
             "line": {
              "color": "white"
             }
            },
            "type": "table"
           }
          ]
         },
         "layout": {
          "annotationdefaults": {
           "arrowcolor": "#2a3f5f",
           "arrowhead": 0,
           "arrowwidth": 1
          },
          "autotypenumbers": "strict",
          "coloraxis": {
           "colorbar": {
            "outlinewidth": 0,
            "ticks": ""
           }
          },
          "colorscale": {
           "diverging": [
            [
             0,
             "#8e0152"
            ],
            [
             0.1,
             "#c51b7d"
            ],
            [
             0.2,
             "#de77ae"
            ],
            [
             0.3,
             "#f1b6da"
            ],
            [
             0.4,
             "#fde0ef"
            ],
            [
             0.5,
             "#f7f7f7"
            ],
            [
             0.6,
             "#e6f5d0"
            ],
            [
             0.7,
             "#b8e186"
            ],
            [
             0.8,
             "#7fbc41"
            ],
            [
             0.9,
             "#4d9221"
            ],
            [
             1,
             "#276419"
            ]
           ],
           "sequential": [
            [
             0,
             "#0d0887"
            ],
            [
             0.1111111111111111,
             "#46039f"
            ],
            [
             0.2222222222222222,
             "#7201a8"
            ],
            [
             0.3333333333333333,
             "#9c179e"
            ],
            [
             0.4444444444444444,
             "#bd3786"
            ],
            [
             0.5555555555555556,
             "#d8576b"
            ],
            [
             0.6666666666666666,
             "#ed7953"
            ],
            [
             0.7777777777777778,
             "#fb9f3a"
            ],
            [
             0.8888888888888888,
             "#fdca26"
            ],
            [
             1,
             "#f0f921"
            ]
           ],
           "sequentialminus": [
            [
             0,
             "#0d0887"
            ],
            [
             0.1111111111111111,
             "#46039f"
            ],
            [
             0.2222222222222222,
             "#7201a8"
            ],
            [
             0.3333333333333333,
             "#9c179e"
            ],
            [
             0.4444444444444444,
             "#bd3786"
            ],
            [
             0.5555555555555556,
             "#d8576b"
            ],
            [
             0.6666666666666666,
             "#ed7953"
            ],
            [
             0.7777777777777778,
             "#fb9f3a"
            ],
            [
             0.8888888888888888,
             "#fdca26"
            ],
            [
             1,
             "#f0f921"
            ]
           ]
          },
          "colorway": [
           "#636efa",
           "#EF553B",
           "#00cc96",
           "#ab63fa",
           "#FFA15A",
           "#19d3f3",
           "#FF6692",
           "#B6E880",
           "#FF97FF",
           "#FECB52"
          ],
          "font": {
           "color": "#2a3f5f"
          },
          "geo": {
           "bgcolor": "white",
           "lakecolor": "white",
           "landcolor": "#E5ECF6",
           "showlakes": true,
           "showland": true,
           "subunitcolor": "white"
          },
          "hoverlabel": {
           "align": "left"
          },
          "hovermode": "closest",
          "mapbox": {
           "style": "light"
          },
          "paper_bgcolor": "white",
          "plot_bgcolor": "#E5ECF6",
          "polar": {
           "angularaxis": {
            "gridcolor": "white",
            "linecolor": "white",
            "ticks": ""
           },
           "bgcolor": "#E5ECF6",
           "radialaxis": {
            "gridcolor": "white",
            "linecolor": "white",
            "ticks": ""
           }
          },
          "scene": {
           "xaxis": {
            "backgroundcolor": "#E5ECF6",
            "gridcolor": "white",
            "gridwidth": 2,
            "linecolor": "white",
            "showbackground": true,
            "ticks": "",
            "zerolinecolor": "white"
           },
           "yaxis": {
            "backgroundcolor": "#E5ECF6",
            "gridcolor": "white",
            "gridwidth": 2,
            "linecolor": "white",
            "showbackground": true,
            "ticks": "",
            "zerolinecolor": "white"
           },
           "zaxis": {
            "backgroundcolor": "#E5ECF6",
            "gridcolor": "white",
            "gridwidth": 2,
            "linecolor": "white",
            "showbackground": true,
            "ticks": "",
            "zerolinecolor": "white"
           }
          },
          "shapedefaults": {
           "line": {
            "color": "#2a3f5f"
           }
          },
          "ternary": {
           "aaxis": {
            "gridcolor": "white",
            "linecolor": "white",
            "ticks": ""
           },
           "baxis": {
            "gridcolor": "white",
            "linecolor": "white",
            "ticks": ""
           },
           "bgcolor": "#E5ECF6",
           "caxis": {
            "gridcolor": "white",
            "linecolor": "white",
            "ticks": ""
           }
          },
          "title": {
           "x": 0.05
          },
          "xaxis": {
           "automargin": true,
           "gridcolor": "white",
           "linecolor": "white",
           "ticks": "",
           "title": {
            "standoff": 15
           },
           "zerolinecolor": "white",
           "zerolinewidth": 2
          },
          "yaxis": {
           "automargin": true,
           "gridcolor": "white",
           "linecolor": "white",
           "ticks": "",
           "title": {
            "standoff": 15
           },
           "zerolinecolor": "white",
           "zerolinewidth": 2
          }
         }
        }
       }
      },
      "text/html": [
       "<div>                        <script type=\"text/javascript\">window.PlotlyConfig = {MathJaxConfig: 'local'};</script>\n",
       "        <script charset=\"utf-8\" src=\"https://cdn.plot.ly/plotly-3.0.1.min.js\"></script>                <div id=\"760d482d-05e1-4681-bace-e52d253045cb\" class=\"plotly-graph-div\" style=\"height:100%; width:100%;\"></div>            <script type=\"text/javascript\">                window.PLOTLYENV=window.PLOTLYENV || {};                                if (document.getElementById(\"760d482d-05e1-4681-bace-e52d253045cb\")) {                    Plotly.newPlot(                        \"760d482d-05e1-4681-bace-e52d253045cb\",                        [{\"hovertemplate\":\"X1=%{x}\\u003cbr\\u003eX2=%{y}\\u003cbr\\u003eX1*X2=%{z}\\u003cbr\\u003eY=%{marker.color}\\u003cextra\\u003e\\u003c\\u002fextra\\u003e\",\"legendgroup\":\"\",\"marker\":{\"color\":{\"dtype\":\"i1\",\"bdata\":\"AAAAAAAAAAAAAAAAAAAAAAAAAAAAAAAAAAAAAAAAAAAAAAAAAAAAAAAAAAAAAAAAAAAAAAAAAAAAAAAAAAAAAAAAAAAAAAAAAAAAAAAAAAAAAAAAAAAAAAAAAAAAAAAAAAAAAAAAAAAAAAAAAAAAAAAAAAAAAAAAAAAAAAAAAAAAAAAAAAAAAAAAAAAAAAAAAAAAAAAAAAAAAAAAAAAAAAAAAAAAAAAAAAAAAAAAAAAAAAAAAAAAAAAAAAAAAAAAAAAAAAAAAAABAQEBAQEBAQEBAQEBAQEBAQEBAQEBAQEBAQEBAQEBAQEBAQEBAQEBAQEBAQEBAQEBAQEBAQEBAQEBAQEBAQEBAQEBAQEBAQEBAQEBAQEBAQEBAQEBAQEBAQEBAQEBAQEBAQEBAQEBAQEBAQEBAQEBAQEBAQEBAQEBAQEBAQEBAQEBAQEBAQEBAQEBAQEBAQEBAQEBAQEBAQEBAQEBAQEBAQEBAQEBAQEBAQEBAQEBAQEBAQEBAQEBAQEBAQEBAQEBAQEBAQEBAQ==\"},\"coloraxis\":\"coloraxis\",\"symbol\":\"circle\"},\"mode\":\"markers\",\"name\":\"\",\"scene\":\"scene\",\"showlegend\":false,\"x\":{\"dtype\":\"f8\",\"bdata\":\"6y830QxSIUBFUglwgm8hQOSR0jEujCFAnrrw7ROoIUD9f2pJN8MhQMX5CLqb3SFA7aIviUT3IUCEPXnWNBAiQPJCH5pvKCJApeUwp\\u002fc\\u002fIkAtG56tz1YiQKupGjz6bCJAh8bcwXmCIkCGdDqQUJciQBV7KNyAqyJA\\u002fYWdvwy\\u002fIkC9uts69tEiQGrWojU\\u002f5CJAybJMgOn1IkA+49XU9gYjQMTw09doFyNAT5daGUEnI0DgRdEVgTYjQPYEujYqRSNAaMxq0z1TI0CyOboxvWAjQBSCoIapbSNAaWjN9gN6I0DX7DOXzYUjQHNcjG0HkSNAWVjNcLKbI0B0XpyJz6UjQAxStpJfryNAJndQWWO4I0CESXKd28AjQOyOSBLJyCNAg\\u002ftxXizQI0Bpt0UcBtcjQC8NFNpW3SNAHYJhGh\\u002fjI0C9khxUX+gjQG5IzvIX7SNA69bFVknxI0DHaz\\u002fV8\\u002fQjQKVUhrgX+CNAdZwSQLX6I0B5O6KgzPwjQG3xTQRe\\u002fiNARN2Zimn\\u002fI0Ck4YFI7\\u002f8jQKThgUjv\\u002fyNARN2Zimn\\u002fI0Bt8U0EXv4jQHk7oqDM\\u002fCNAdZwSQLX6I0ClVIa4F\\u002fgjQMdrP9Xz9CNA69bFVknxI0BuSM7yF+0jQL2SHFRf6CNAHYJhGh\\u002fjI0AvDRTaVt0jQGm3RRwG1yNAg\\u002ftxXizQI0DsjkgSycgjQIRJcp3bwCNAJndQWWO4I0AMUraSX68jQHRenInPpSNAWVjNcLKbI0BzXIxtB5EjQNfsM5fNhSNAaWjN9gN6I0AUgqCGqW0jQLI5ujG9YCNAacxq0z1TI0D2BLo2KkUjQOBF0RWBNiNAT5daGUEnI0DE8NPXaBcjQD7j1dT2BiNAybJMgOn1IkBq1qI1P+QiQL262zr20SJA\\u002fYWdvwy\\u002fIkAVeyjcgKsiQIZ0OpBQlyJAh8bcwXmCIkCrqRo8+mwiQC0bnq3PViJApeUwp\\u002fc\\u002fIkDyQh+abygiQIQ9edY0ECJA7aIviUT3IUDF+Qi6m90hQP5\\u002fakk3wyFAnrrw7ROoIUDkkdIxLowhQEVSCXCCbyFA6y830QxSIUDrLzfRDFIhwEVSCXCCbyHA5JHSMS6MIcCeuvDtE6ghwP1\\u002fakk3wyHAxfkIupvdIcDtoi+JRPchwIQ9edY0ECLA8kIfmm8oIsCl5TCn9z8iwC0bnq3PViLAq6kaPPpsIsCHxtzBeYIiwIZ0OpBQlyLAFXso3ICrIsD9hZ2\\u002fDL8iwL262zr20SLAataiNT\\u002fkIsDJskyA6fUiwD7j1dT2BiPAxPDT12gXI8BPl1oZQScjwOBF0RWBNiPA9gS6NipFI8BozGrTPVMjwLI5ujG9YCPAFIKghqltI8BpaM32A3ojwNfsM5fNhSPAc1yMbQeRI8BZWM1wspsjwHRenInPpSPADFK2kl+vI8Amd1BZY7gjwIRJcp3bwCPA7I5IEsnII8CD+3FeLNAjwGm3RRwG1yPALw0U2lbdI8AdgmEaH+MjwL2SHFRf6CPAbkjO8hftI8Dr1sVWSfEjwMdrP9Xz9CPApVSGuBf4I8B1nBJAtfojwHk7oqDM\\u002fCPAbfFNBF7+I8BE3ZmKaf8jwKThgUjv\\u002fyPApOGBSO\\u002f\\u002fI8BE3ZmKaf8jwG3xTQRe\\u002fiPAeTuioMz8I8B1nBJAtfojwKVUhrgX+CPAx2s\\u002f1fP0I8Dr1sVWSfEjwG5IzvIX7SPAvZIcVF\\u002foI8AdgmEaH+MjwC8NFNpW3SPAabdFHAbXI8CD+3FeLNAjwOyOSBLJyCPAhElyndvAI8Amd1BZY7gjwAxStpJfryPAdF6cic+lI8BZWM1wspsjwHNcjG0HkSPA1+wzl82FI8BpaM32A3ojwBSCoIapbSPAsjm6Mb1gI8BpzGrTPVMjwPYEujYqRSPA4EXRFYE2I8BPl1oZQScjwMTw09doFyPAPuPV1PYGI8DJskyA6fUiwGrWojU\\u002f5CLAvbrbOvbRIsD9hZ2\\u002fDL8iwBV7KNyAqyLAhnQ6kFCXIsCHxtzBeYIiwKupGjz6bCLALRuerc9WIsCl5TCn9z8iwPJCH5pvKCLAhD151jQQIsDtoi+JRPchwMX5CLqb3SHA\\u002fn9qSTfDIcCeuvDtE6ghwOSR0jEujCHARVIJcIJvIcDrLzfRDFIhwAAAAAAAAAAAGxm5ApX\\u002f7z8MGILdsYL2P1vM5yZbbfs\\u002fBGGI5zmB\\u002fz89XRhnzoQBQKD5qjGoFgNAwpSXHr2BBED2RfdQn80FQDMN9QaW\\u002fwZAB2GBdnwbCEAAJv84PiQJQAdt1L8hHApAu3YjX\\u002fcEC0AORalaOOALQKsh0iQcrwxADFyKWqdyDUB7UsaatisOQOjFxIsG2w5ABWGI5zmBD0D3fcUPbw8QQHl0uXw3WhBADFxWtCyhEEBuhn3qfuQQQLrfUPhYJBFAbsjFG+FgEUDqNSKVOZoRQM2pfCmB0BFAYRGnj9MDEkCsvq7LSTQSQGAiL3z6YRJAMuICHPqMEkD3dFc6W7USQIBcv6ou2xJA12GOroP+EkByFowYaB8TQNUQ12voPRNAtMOr9g9aE0DCFqLp6HMTQAxP22t8ixNAagSFrNKgE0Bv1QTy8rMTQDR5EqfjxBNA0Bn6ZarTE0DXDzcCTOATQA7FjpDM6hNA5GTMbS\\u002fzE0Cn1DdEd\\u002fkTQEcA3Q+m\\u002fRNArq+zIb3\\u002fE0Cur7Mhvf8TQEcA3Q+m\\u002fRNAp9Q3RHf5E0DkZMxtL\\u002fMTQA7FjpDM6hNA1w83AkzgE0DQGfplqtMTQDR5EqfjxBNAb9UE8vKzE0BqBIWs0qATQAxP22t8ixNAwhai6ehzE0C0w6v2D1oTQNUQ12voPRNAchaMGGgfE0DXYY6ug\\u002f4SQIBcv6ou2xJA93RXOlu1EkAy4gIc+owSQGAiL3z6YRJArL6uy0k0EkBhEaeP0wMSQM2pfCmB0BFA6jUilTmaEUBuyMUb4WARQLrfUPhYJBFAb4Z96n7kEEAMXFa0LKEQQHl0uXw3WhBA+H3FD28PEEAEYYjnOYEPQOjFxIsG2w5AfFLGmrYrDkAMXIpap3INQKwh0iQcrwxADEWpWjjgC0C7diNf9wQLQApt1L8hHApA\\u002fyX\\u002fOD4kCUAHYYF2fBsIQDYN9QaW\\u002fwZA9kX3UJ\\u002fNBUDFlJcevYEEQJv5qjGoFgNAPV0YZ86EAUANYYjnOYH\\u002fP1vM5yZbbfs\\u002fDBiC3bGC9j\\u002f7GLkClf\\u002fvPwAAAAAAAAAAAAAAAAAAAIAbGbkClf\\u002fvvwwYgt2xgva\\u002fW8znJltt+78EYYjnOYH\\u002fvz1dGGfOhAHAoPmqMagWA8DClJcevYEEwPZF91CfzQXAMw31Bpb\\u002fBsAHYYF2fBsIwAAm\\u002fzg+JAnAB23UvyEcCsC7diNf9wQLwA5FqVo44AvAqyHSJByvDMAMXIpap3INwHtSxpq2Kw7A6MXEiwbbDsAFYYjnOYEPwPd9xQ9vDxDAeXS5fDdaEMAMXFa0LKEQwG6Gfep+5BDAut9Q+FgkEcBuyMUb4WARwOo1IpU5mhHAzal8KYHQEcBhEaeP0wMSwKy+rstJNBLAYCIvfPphEsAy4gIc+owSwPd0VzpbtRLAgFy\\u002fqi7bEsDXYY6ug\\u002f4SwHIWjBhoHxPA1RDXa+g9E8C0w6v2D1oTwMIWounocxPADE\\u002fba3yLE8BqBIWs0qATwG\\u002fVBPLysxPANHkSp+PEE8DQGfplqtMTwNcPNwJM4BPADsWOkMzqE8DkZMxtL\\u002fMTwKfUN0R3+RPARwDdD6b9E8Cur7Mhvf8TwK6vsyG9\\u002fxPARwDdD6b9E8Cn1DdEd\\u002fkTwORkzG0v8xPADsWOkMzqE8DXDzcCTOATwNAZ+mWq0xPANHkSp+PEE8Bv1QTy8rMTwGoEhazSoBPADE\\u002fba3yLE8DCFqLp6HMTwLTDq\\u002fYPWhPA1RDXa+g9E8ByFowYaB8TwNdhjq6D\\u002fhLAgFy\\u002fqi7bEsD3dFc6W7USwDLiAhz6jBLAYCIvfPphEsCsvq7LSTQSwGERp4\\u002fTAxLAzal8KYHQEcDqNSKVOZoRwG7IxRvhYBHAut9Q+FgkEcBvhn3qfuQQwAxcVrQsoRDAeXS5fDdaEMD4fcUPbw8QwARhiOc5gQ\\u002fA6MXEiwbbDsB8UsaatisOwAxcilqncg3ArCHSJByvDMAMRalaOOALwLt2I1\\u002f3BAvACm3UvyEcCsD\\u002fJf84PiQJwAdhgXZ8GwjANg31Bpb\\u002fBsD2RfdQn80FwMWUlx69gQTAm\\u002fmqMagWA8A9XRhnzoQBwA1hiOc5gf+\\u002fW8znJltt+78MGILdsYL2v\\u002fsYuQKV\\u002f++\\u002fAAAAAAAAAIA=\"},\"y\":{\"dtype\":\"f8\",\"bdata\":\"AAAAAAAAFMBDYt7OkJgTwIbEvJ0hMRPAyiabbLLJEsANiXk7Q2ISwFDrVwrU+hHAk0022WSTEcDXrxSo9SsRwBoS83aGxBDAXXTRRRddEMBArV8pUOsPwMdxHMdxHA\\u002fATjbZZJNNDsDU+pUCtX4NwFq\\u002fUqDWrwzA4YMPPvjgC8BoSMzbGRILwO4MiXk7QwrAdNFFF110CcD7lQK1fqUIwIFav1Kg1gfACB988MEHB8CO4ziO4zgGwBWo9SsFagXAm2yyySabBMAiMW9nSMwDwKj1KwVq\\u002fQLAL7rooosuAsC1fqVArV8BwDxDYt7OkADAhA8++OCD\\u002f7+SmLczJOb9v54hMW9nSPy\\u002fqqqqqqqq+r+4MyTm7Qz5v8S8nSExb\\u002fe\\u002f0kUXXXTR9b\\u002fezpCYtzP0v+xXCtT6lfK\\u002f+OCDDz748L8I1PqVArXuvyjm7QyJeeu\\u002fQPjggw8+6L9YCtT6lQLlv3Acx3Ecx+G\\u002fIF100UUX3b9QgVq\\u002fUqDWv4ClQK1fKdC\\u002fYJNNNtlkw78Ab2dIzNupvwBvZ0jM26k\\u002fYJNNNtlkwz+ApUCtXynQP1CBWr9SoNY\\u002fEF100UUX3T9wHMdxHMfhP1gK1PqVAuU\\u002fQPjggw8+6D8g5u0MiXnrPwjU+pUCte4\\u002f+OCDDz748D\\u002fsVwrU+pXyP9zOkJi3M\\u002fQ\\u002f0EUXXXTR9T\\u002fEvJ0hMW\\u002f3P7gzJObtDPk\\u002frKqqqqqq+j+cITFvZ0j8P5CYtzMk5v0\\u002fhA8++OCD\\u002fz88Q2LezpAAQLR+pUCtXwFALrrooosuAkCo9SsFav0CQCIxb2dIzANAmmyyySabBEAUqPUrBWoFQI7jOI7jOAZACB988MEHB0CAWr9SoNYHQPyVArV+pQhAdNFFF110CUDsDIl5O0MKQGhIzNsZEgtA4IMPPvjgC0Bcv1Kg1q8MQNT6lQK1fg1ATDbZZJNNDkDIcRzHcRwPQECtXylQ6w9AXHTRRRddEEAaEvN2hsQQQNavFKj1KxFAlE022WSTEUBQ61cK1PoRQAyJeTtDYhJAyiabbLLJEkCGxLydITETQERi3s6QmBNAAAAAAAAAFEAAAAAAAAAUQENi3s6QmBNAhsS8nSExE0DKJptssskSQA2JeTtDYhJAUOtXCtT6EUCTTTbZZJMRQNevFKj1KxFAGhLzdobEEEBddNFFF10QQECtXylQ6w9Ax3Ecx3EcD0BONtlkk00OQNT6lQK1fg1AWr9SoNavDEDhgw8++OALQGhIzNsZEgtA7gyJeTtDCkB00UUXXXQJQPuVArV+pQhAgVq\\u002fUqDWB0AIH3zwwQcHQI7jOI7jOAZAFaj1KwVqBUCbbLLJJpsEQCIxb2dIzANAqPUrBWr9AkAvuuiiiy4CQLV+pUCtXwFAPENi3s6QAECEDz744IP\\u002fP5KYtzMk5v0\\u002fniExb2dI\\u002fD+qqqqqqqr6P7gzJObtDPk\\u002fxLydITFv9z\\u002fSRRdddNH1P97OkJi3M\\u002fQ\\u002f7FcK1PqV8j\\u002f44IMPPvjwPwjU+pUCte4\\u002fKObtDIl56z9A+OCDDz7oP1gK1PqVAuU\\u002fcBzHcRzH4T8gXXTRRRfdP1CBWr9SoNY\\u002fgKVArV8p0D9gk0022WTDPwBvZ0jM26k\\u002fAG9nSMzbqb9gk0022WTDv4ClQK1fKdC\\u002fUIFav1Kg1r8QXXTRRRfdv3Acx3Ecx+G\\u002fWArU+pUC5b9A+OCDDz7ovyDm7QyJeeu\\u002fCNT6lQK17r\\u002f44IMPPvjwv+xXCtT6lfK\\u002f3M6QmLcz9L\\u002fQRRdddNH1v8S8nSExb\\u002fe\\u002fuDMk5u0M+b+sqqqqqqr6v5whMW9nSPy\\u002fkJi3MyTm\\u002fb+EDz744IP\\u002fvzxDYt7OkADAtH6lQK1fAcAuuuiiiy4CwKj1KwVq\\u002fQLAIjFvZ0jMA8CabLLJJpsEwBSo9SsFagXAjuM4juM4BsAIH3zwwQcHwIBav1Kg1gfA\\u002fJUCtX6lCMB00UUXXXQJwOwMiXk7QwrAaEjM2xkSC8Dggw8++OALwFy\\u002fUqDWrwzA1PqVArV+DcBMNtlkk00OwMhxHMdxHA\\u002fAQK1fKVDrD8BcdNFFF10QwBoS83aGxBDA1q8UqPUrEcCUTTbZZJMRwFDrVwrU+hHADIl5O0NiEsDKJptssskSwIbEvJ0hMRPARGLezpCYE8AAAAAAAAAUwAAAAAAAABTAQ2LezpCYE8CGxLydITETwMomm2yyyRLADYl5O0NiEsBQ61cK1PoRwJNNNtlkkxHA168UqPUrEcAaEvN2hsQQwF100UUXXRDAQK1fKVDrD8DHcRzHcRwPwE422WSTTQ7A1PqVArV+DcBav1Kg1q8MwOGDDz744AvAaEjM2xkSC8DuDIl5O0MKwHTRRRdddAnA+5UCtX6lCMCBWr9SoNYHwAgffPDBBwfAjuM4juM4BsAVqPUrBWoFwJtssskmmwTAIjFvZ0jMA8Co9SsFav0CwC+66KKLLgLAtX6lQK1fAcA8Q2LezpAAwIQPPvjgg\\u002f+\\u002fkpi3MyTm\\u002fb+eITFvZ0j8v6qqqqqqqvq\\u002fuDMk5u0M+b\\u002fEvJ0hMW\\u002f3v9JFF1100fW\\u002f3s6QmLcz9L\\u002fsVwrU+pXyv\\u002fjggw8++PC\\u002fCNT6lQK17r8o5u0MiXnrv0D44IMPPui\\u002fWArU+pUC5b9wHMdxHMfhvyBddNFFF92\\u002fUIFav1Kg1r+ApUCtXynQv2CTTTbZZMO\\u002fAG9nSMzbqb8Ab2dIzNupP2CTTTbZZMM\\u002fgKVArV8p0D9QgVq\\u002fUqDWPxBddNFFF90\\u002fcBzHcRzH4T9YCtT6lQLlP0D44IMPPug\\u002fIObtDIl56z8I1PqVArXuP\\u002fjggw8++PA\\u002f7FcK1PqV8j\\u002fczpCYtzP0P9BFF1100fU\\u002fxLydITFv9z+4MyTm7Qz5P6yqqqqqqvo\\u002fnCExb2dI\\u002fD+QmLczJOb9P4QPPvjgg\\u002f8\\u002fPENi3s6QAEC0fqVArV8BQC666KKLLgJAqPUrBWr9AkAiMW9nSMwDQJpssskmmwRAFKj1KwVqBUCO4ziO4zgGQAgffPDBBwdAgFq\\u002fUqDWB0D8lQK1fqUIQHTRRRdddAlA7AyJeTtDCkBoSMzbGRILQOCDDz744AtAXL9SoNavDEDU+pUCtX4NQEw22WSTTQ5AyHEcx3EcD0BArV8pUOsPQFx00UUXXRBAGhLzdobEEEDWrxSo9SsRQJRNNtlkkxFAUOtXCtT6EUAMiXk7Q2ISQMomm2yyyRJAhsS8nSExE0BEYt7OkJgTQAAAAAAAABRAAAAAAAAAFEBDYt7OkJgTQIbEvJ0hMRNAyiabbLLJEkANiXk7Q2ISQFDrVwrU+hFAk0022WSTEUDXrxSo9SsRQBoS83aGxBBAXXTRRRddEEBArV8pUOsPQMdxHMdxHA9ATjbZZJNNDkDU+pUCtX4NQFq\\u002fUqDWrwxA4YMPPvjgC0BoSMzbGRILQO4MiXk7QwpAdNFFF110CUD7lQK1fqUIQIFav1Kg1gdACB988MEHB0CO4ziO4zgGQBWo9SsFagVAm2yyySabBEAiMW9nSMwDQKj1KwVq\\u002fQJAL7rooosuAkC1fqVArV8BQDxDYt7OkABAhA8++OCD\\u002fz+SmLczJOb9P54hMW9nSPw\\u002fqqqqqqqq+j+4MyTm7Qz5P8S8nSExb\\u002fc\\u002f0kUXXXTR9T\\u002fezpCYtzP0P+xXCtT6lfI\\u002f+OCDDz748D8I1PqVArXuPyjm7QyJees\\u002fQPjggw8+6D9YCtT6lQLlP3Acx3Ecx+E\\u002fIF100UUX3T9QgVq\\u002fUqDWP4ClQK1fKdA\\u002fYJNNNtlkwz8Ab2dIzNupPwBvZ0jM26m\\u002fYJNNNtlkw7+ApUCtXynQv1CBWr9SoNa\\u002fEF100UUX3b9wHMdxHMfhv1gK1PqVAuW\\u002fQPjggw8+6L8g5u0MiXnrvwjU+pUCte6\\u002f+OCDDz748L\\u002fsVwrU+pXyv9zOkJi3M\\u002fS\\u002f0EUXXXTR9b\\u002fEvJ0hMW\\u002f3v7gzJObtDPm\\u002frKqqqqqq+r+cITFvZ0j8v5CYtzMk5v2\\u002fhA8++OCD\\u002f788Q2LezpAAwLR+pUCtXwHALrrooosuAsCo9SsFav0CwCIxb2dIzAPAmmyyySabBMAUqPUrBWoFwI7jOI7jOAbACB988MEHB8CAWr9SoNYHwPyVArV+pQjAdNFFF110CcDsDIl5O0MKwGhIzNsZEgvA4IMPPvjgC8Bcv1Kg1q8MwNT6lQK1fg3ATDbZZJNNDsDIcRzHcRwPwECtXylQ6w\\u002fAXHTRRRddEMAaEvN2hsQQwNavFKj1KxHAlE022WSTEcBQ61cK1PoRwAyJeTtDYhLAyiabbLLJEsCGxLydITETwERi3s6QmBPAAAAAAAAAFMA=\"},\"z\":{\"dtype\":\"f8\",\"bdata\":\"5vuEBZCmRcA8YDcJrFpFwNB0wAZZDEXAxmbDy6q7RMARyLeItGhEwKpjwNqIE0TAVefB1Dm8Q8Dk0MsH2WJDwGb+44p3B0PAgHZDAiaqQsCPbBGm9EpCwPQkqEjz6UHAmyhuXDGHQcDgJk35vSJBwM30zuGnvEDAP0Toh\\u002f1UQMC94u8imtc\\u002fwL47ArlIAj\\u002fAhXlLBiIqPsArWs2+QE89wNkXXB2\\u002fcTzA0\\u002fhP6raRO8C3i9uBQa86wPemDdp3yjnAKaqFiHLjOMA799\\u002fHSfo3wEQe4HwVDzfAG8hdO+0hNsCkB\\u002flK6DI1wLhfmqsdQjTA63nCGaRPM8D7QK0SklsywPvOS9j9ZTHASmMYdf1uMMCCu45\\u002fTe0uwCUXsL0e+izAVssPmJkEK8ChcFWv6AwpwFEP1Fc2EyfAD8jbn6wXJcCih+JVdRojwOe8hw66GyHAQLLtVEg3HsCrc1i4uTQawEPsP1saMBbAE9SzC7wpEsCf+ci54EMMwIxTBmQRMgTAwVkfJFk9+L\\u002fxnhMrUingv\\u002fGeEytSKeA\\u002fwVkfJFk9+D+MUwZkETIEQJ\\u002f5yLngQwxACdSzC7wpEkBD7D9bGjAWQKtzWLi5NBpAQLLtVEg3HkDivIcOuhshQKKH4lV1GiNAD8jbn6wXJUBRD9RXNhMnQJ5wVa\\u002foDClAVMsPmJkEK0AlF7C9HvosQIK7jn9N7S5AS2MYdf1uMED6zkvY\\u002fWUxQPpArRKSWzJA63nCGaRPM0C4X5qrHUI0QKIH+UroMjVAGshdO+0hNkBEHuB8FQ83QDv338dJ+jdAKaqFiHLjOED2pg3ad8o5QLeL24FBrzpA0\\u002fhP6raRO0DXF1wdv3E8QCxazb5ATz1AhXlLBiIqPkC7OwK5SAI\\u002fQL3i7yKa1z9AP0Toh\\u002f1UQEDP9M7hp7xAQOAmTfm9IkFAmihuXDGHQUD1JKhI8+lBQI9sEab0SkJAf3ZDAiaqQkBm\\u002fuOKdwdDQOPQywfZYkNAVufB1Dm8Q0CqY8DaiBNEQBHIt4i0aERAxmbDy6q7REDQdMAGWQxFQD1gNwmsWkVA5vuEBZCmRUDm+4QFkKZFwDxgNwmsWkXA0HTABlkMRcDGZsPLqrtEwBHIt4i0aETAqmPA2ogTRMBV58HUObxDwOTQywfZYkPAZv7jincHQ8CAdkMCJqpCwI9sEab0SkLA9CSoSPPpQcCbKG5cMYdBwOAmTfm9IkHAzfTO4ae8QMA\\u002fROiH\\u002fVRAwL3i7yKa1z\\u002fAvjsCuUgCP8CFeUsGIio+wCtazb5ATz3A2RdcHb9xPMDT+E\\u002fqtpE7wLeL24FBrzrA96YN2nfKOcApqoWIcuM4wDv338dJ+jfARB7gfBUPN8AbyF077SE2wKQH+UroMjXAuF+aqx1CNMDrecIZpE8zwPtArRKSWzLA+85L2P1lMcBKYxh1\\u002fW4wwIK7jn9N7S7AJRewvR76LMBWyw+YmQQrwKFwVa\\u002foDCnAUQ\\u002fUVzYTJ8APyNufrBclwKKH4lV1GiPA57yHDrobIcBAsu1USDcewKtzWLi5NBrAQ+w\\u002fWxowFsAT1LMLvCkSwJ\\u002f5yLngQwzAjFMGZBEyBMDBWR8kWT34v\\u002fGeEytSKeC\\u002f8Z4TK1Ip4D\\u002fBWR8kWT34P4xTBmQRMgRAn\\u002fnIueBDDEAJ1LMLvCkSQEPsP1saMBZAq3NYuLk0GkBAsu1USDceQOK8hw66GyFAoofiVXUaI0APyNufrBclQFEP1Fc2EydAnnBVr+gMKUBUyw+YmQQrQCUXsL0e+ixAgruOf03tLkBLYxh1\\u002fW4wQPrOS9j9ZTFA+kCtEpJbMkDrecIZpE8zQLhfmqsdQjRAogf5SugyNUAayF077SE2QEQe4HwVDzdAO\\u002fffx0n6N0ApqoWIcuM4QPamDdp3yjlAt4vbgUGvOkDT+E\\u002fqtpE7QNcXXB2\\u002fcTxALFrNvkBPPUCFeUsGIio+QLs7ArlIAj9AveLvIprXP0A\\u002fROiH\\u002fVRAQM\\u002f0zuGnvEBA4CZN+b0iQUCaKG5cMYdBQPUkqEjz6UFAj2wRpvRKQkB\\u002fdkMCJqpCQGb+44p3B0NA49DLB9liQ0BW58HUObxDQKpjwNqIE0RAEci3iLRoREDGZsPLqrtEQNB0wAZZDEVAPWA3CaxaRUDm+4QFkKZFQAAAAAAAAACA\\u002fRBlSk+YE8BJuTvDUgAbwOzZzxdjGiDAVe+whG4ZIsCN2paRvq8jwKJEzS7r9yTAK+\\u002fPdjACJsCpE8VsbdkmwGhwwBJlhSfA+Q+20OYLKMBjgRRidXEowCDrkJiruSjAveOEknznKMBw96V6Xv0owIRXzgho\\u002fSjAGhFffmXpKMBuYUT358IowA8p6NdQiyjA45pBf9pDKMCGoIQBn+0nwEKUlnGdiSfAu7jpFr4YJ8C1WmfS1ZsmwEm7teKoEybAUmNqK+2AJcBatLoZTOQkwDvYxzpkPiTAC5jvksqPI8B3ThPCC9kiwI1rLv6sGiLAgG6g6yxVIcC2PA9ZBIkgwH\\u002fvPsdNbR\\u002fAQoy1Dge9HcDIw889CgIcwCPRU6olPRrA2EnWFSFvGMABs7lkvpgWwMcV2UO6uhTAvF5ov8zVEsARSDXNqeoQwBuJSpgD9A3Aqt4Z9QMJCsBeg5LJqRUGwBJWsJpFGwLAuPgtPkg2\\u002fL\\u002fP1lT3HS30vwLKruQ1O+i\\u002f58tIpCkp0L\\u002fny0ikKSnQPwLKruQ1O+g\\u002fz9ZU9x0t9D+4+C0+SDb8PwhWsJpFGwJAXoOSyakVBkCq3hn1AwkKQBuJSpgD9A1ADUg1zanqEEC8Xmi\\u002fzNUSQMcV2UO6uhRAAbO5ZL6YFkDWSdYVIW8YQCHRU6olPRpAyMPPPQoCHEBCjLUOB70dQILvPsdNbR9AtTwPWQSJIEB+bqDrLFUhQI1rLv6sGiJAd04TwgvZIkAKmO+Syo8jQDrYxzpkPiRAWrS6GUzkJEBSY2or7YAlQEi7teKoEyZAtVpn0tWbJkC7uOkWvhgnQEKUlnGdiSdAhqCEAZ\\u002ftJ0DjmkF\\u002f2kMoQA8p6NdQiyhAbWFE9+fCKEAaEV9+ZekoQIRXzgho\\u002fShAcPelel79KEC944SSfOcoQCHrkJiruShAY4EUYnVxKED5D7bQ5gsoQGpwwBJlhSdAqRPFbG3ZJkAt7892MAImQJ1EzS7r9yRAjdqWkb6vI0BZ77CEbhkiQOzZzxdjGiBASbk7w1IAG0DrEGVKT5gTQAAAAAAAAAAAAAAAAAAAAID9EGVKT5gTwEm5O8NSABvA7NnPF2MaIMBV77CEbhkiwI3alpG+ryPAokTNLuv3JMAr7892MAImwKkTxWxt2SbAaHDAEmWFJ8D5D7bQ5gsowGOBFGJ1cSjAIOuQmKu5KMC944SSfOcowHD3pXpe\\u002fSjAhFfOCGj9KMAaEV9+ZekowG5hRPfnwijADyno11CLKMDjmkF\\u002f2kMowIaghAGf7SfAQpSWcZ2JJ8C7uOkWvhgnwLVaZ9LVmybASbu14qgTJsBSY2or7YAlwFq0uhlM5CTAO9jHOmQ+JMALmO+Syo8jwHdOE8IL2SLAjWsu\\u002fqwaIsCAbqDrLFUhwLY8D1kEiSDAf+8+x01tH8BCjLUOB70dwMjDzz0KAhzAI9FTqiU9GsDYSdYVIW8YwAGzuWS+mBbAxxXZQ7q6FMC8Xmi\\u002fzNUSwBFINc2p6hDAG4lKmAP0DcCq3hn1AwkKwF6DksmpFQbAElawmkUbAsC4+C0+SDb8v8\\u002fWVPcdLfS\\u002fAsqu5DU76L\\u002fny0ikKSnQv+fLSKQpKdA\\u002fAsqu5DU76D\\u002fP1lT3HS30P7j4LT5INvw\\u002fCFawmkUbAkBeg5LJqRUGQKreGfUDCQpAG4lKmAP0DUANSDXNqeoQQLxeaL\\u002fM1RJAxxXZQ7q6FEABs7lkvpgWQNZJ1hUhbxhAIdFTqiU9GkDIw889CgIcQEKMtQ4HvR1Agu8+x01tH0C1PA9ZBIkgQH5uoOssVSFAjWsu\\u002fqwaIkB3ThPCC9kiQAqY75LKjyNAOtjHOmQ+JEBatLoZTOQkQFJjaivtgCVASLu14qgTJkC1WmfS1ZsmQLu46Ra+GCdAQpSWcZ2JJ0CGoIQBn+0nQOOaQX\\u002faQyhADyno11CLKEBtYUT358IoQBoRX35l6ShAhFfOCGj9KEBw96V6Xv0oQL3jhJJ85yhAIeuQmKu5KEBjgRRidXEoQPkPttDmCyhAanDAEmWFJ0CpE8VsbdkmQC3vz3YwAiZAnUTNLuv3JECN2paRvq8jQFnvsIRuGSJA7NnPF2MaIEBJuTvDUgAbQOsQZUpPmBNAAAAAAAAAAAA=\"},\"type\":\"scatter3d\"}],                        {\"template\":{\"data\":{\"histogram2dcontour\":[{\"type\":\"histogram2dcontour\",\"colorbar\":{\"outlinewidth\":0,\"ticks\":\"\"},\"colorscale\":[[0.0,\"#0d0887\"],[0.1111111111111111,\"#46039f\"],[0.2222222222222222,\"#7201a8\"],[0.3333333333333333,\"#9c179e\"],[0.4444444444444444,\"#bd3786\"],[0.5555555555555556,\"#d8576b\"],[0.6666666666666666,\"#ed7953\"],[0.7777777777777778,\"#fb9f3a\"],[0.8888888888888888,\"#fdca26\"],[1.0,\"#f0f921\"]]}],\"choropleth\":[{\"type\":\"choropleth\",\"colorbar\":{\"outlinewidth\":0,\"ticks\":\"\"}}],\"histogram2d\":[{\"type\":\"histogram2d\",\"colorbar\":{\"outlinewidth\":0,\"ticks\":\"\"},\"colorscale\":[[0.0,\"#0d0887\"],[0.1111111111111111,\"#46039f\"],[0.2222222222222222,\"#7201a8\"],[0.3333333333333333,\"#9c179e\"],[0.4444444444444444,\"#bd3786\"],[0.5555555555555556,\"#d8576b\"],[0.6666666666666666,\"#ed7953\"],[0.7777777777777778,\"#fb9f3a\"],[0.8888888888888888,\"#fdca26\"],[1.0,\"#f0f921\"]]}],\"heatmap\":[{\"type\":\"heatmap\",\"colorbar\":{\"outlinewidth\":0,\"ticks\":\"\"},\"colorscale\":[[0.0,\"#0d0887\"],[0.1111111111111111,\"#46039f\"],[0.2222222222222222,\"#7201a8\"],[0.3333333333333333,\"#9c179e\"],[0.4444444444444444,\"#bd3786\"],[0.5555555555555556,\"#d8576b\"],[0.6666666666666666,\"#ed7953\"],[0.7777777777777778,\"#fb9f3a\"],[0.8888888888888888,\"#fdca26\"],[1.0,\"#f0f921\"]]}],\"contourcarpet\":[{\"type\":\"contourcarpet\",\"colorbar\":{\"outlinewidth\":0,\"ticks\":\"\"}}],\"contour\":[{\"type\":\"contour\",\"colorbar\":{\"outlinewidth\":0,\"ticks\":\"\"},\"colorscale\":[[0.0,\"#0d0887\"],[0.1111111111111111,\"#46039f\"],[0.2222222222222222,\"#7201a8\"],[0.3333333333333333,\"#9c179e\"],[0.4444444444444444,\"#bd3786\"],[0.5555555555555556,\"#d8576b\"],[0.6666666666666666,\"#ed7953\"],[0.7777777777777778,\"#fb9f3a\"],[0.8888888888888888,\"#fdca26\"],[1.0,\"#f0f921\"]]}],\"surface\":[{\"type\":\"surface\",\"colorbar\":{\"outlinewidth\":0,\"ticks\":\"\"},\"colorscale\":[[0.0,\"#0d0887\"],[0.1111111111111111,\"#46039f\"],[0.2222222222222222,\"#7201a8\"],[0.3333333333333333,\"#9c179e\"],[0.4444444444444444,\"#bd3786\"],[0.5555555555555556,\"#d8576b\"],[0.6666666666666666,\"#ed7953\"],[0.7777777777777778,\"#fb9f3a\"],[0.8888888888888888,\"#fdca26\"],[1.0,\"#f0f921\"]]}],\"mesh3d\":[{\"type\":\"mesh3d\",\"colorbar\":{\"outlinewidth\":0,\"ticks\":\"\"}}],\"scatter\":[{\"fillpattern\":{\"fillmode\":\"overlay\",\"size\":10,\"solidity\":0.2},\"type\":\"scatter\"}],\"parcoords\":[{\"type\":\"parcoords\",\"line\":{\"colorbar\":{\"outlinewidth\":0,\"ticks\":\"\"}}}],\"scatterpolargl\":[{\"type\":\"scatterpolargl\",\"marker\":{\"colorbar\":{\"outlinewidth\":0,\"ticks\":\"\"}}}],\"bar\":[{\"error_x\":{\"color\":\"#2a3f5f\"},\"error_y\":{\"color\":\"#2a3f5f\"},\"marker\":{\"line\":{\"color\":\"#E5ECF6\",\"width\":0.5},\"pattern\":{\"fillmode\":\"overlay\",\"size\":10,\"solidity\":0.2}},\"type\":\"bar\"}],\"scattergeo\":[{\"type\":\"scattergeo\",\"marker\":{\"colorbar\":{\"outlinewidth\":0,\"ticks\":\"\"}}}],\"scatterpolar\":[{\"type\":\"scatterpolar\",\"marker\":{\"colorbar\":{\"outlinewidth\":0,\"ticks\":\"\"}}}],\"histogram\":[{\"marker\":{\"pattern\":{\"fillmode\":\"overlay\",\"size\":10,\"solidity\":0.2}},\"type\":\"histogram\"}],\"scattergl\":[{\"type\":\"scattergl\",\"marker\":{\"colorbar\":{\"outlinewidth\":0,\"ticks\":\"\"}}}],\"scatter3d\":[{\"type\":\"scatter3d\",\"line\":{\"colorbar\":{\"outlinewidth\":0,\"ticks\":\"\"}},\"marker\":{\"colorbar\":{\"outlinewidth\":0,\"ticks\":\"\"}}}],\"scattermap\":[{\"type\":\"scattermap\",\"marker\":{\"colorbar\":{\"outlinewidth\":0,\"ticks\":\"\"}}}],\"scattermapbox\":[{\"type\":\"scattermapbox\",\"marker\":{\"colorbar\":{\"outlinewidth\":0,\"ticks\":\"\"}}}],\"scatterternary\":[{\"type\":\"scatterternary\",\"marker\":{\"colorbar\":{\"outlinewidth\":0,\"ticks\":\"\"}}}],\"scattercarpet\":[{\"type\":\"scattercarpet\",\"marker\":{\"colorbar\":{\"outlinewidth\":0,\"ticks\":\"\"}}}],\"carpet\":[{\"aaxis\":{\"endlinecolor\":\"#2a3f5f\",\"gridcolor\":\"white\",\"linecolor\":\"white\",\"minorgridcolor\":\"white\",\"startlinecolor\":\"#2a3f5f\"},\"baxis\":{\"endlinecolor\":\"#2a3f5f\",\"gridcolor\":\"white\",\"linecolor\":\"white\",\"minorgridcolor\":\"white\",\"startlinecolor\":\"#2a3f5f\"},\"type\":\"carpet\"}],\"table\":[{\"cells\":{\"fill\":{\"color\":\"#EBF0F8\"},\"line\":{\"color\":\"white\"}},\"header\":{\"fill\":{\"color\":\"#C8D4E3\"},\"line\":{\"color\":\"white\"}},\"type\":\"table\"}],\"barpolar\":[{\"marker\":{\"line\":{\"color\":\"#E5ECF6\",\"width\":0.5},\"pattern\":{\"fillmode\":\"overlay\",\"size\":10,\"solidity\":0.2}},\"type\":\"barpolar\"}],\"pie\":[{\"automargin\":true,\"type\":\"pie\"}]},\"layout\":{\"autotypenumbers\":\"strict\",\"colorway\":[\"#636efa\",\"#EF553B\",\"#00cc96\",\"#ab63fa\",\"#FFA15A\",\"#19d3f3\",\"#FF6692\",\"#B6E880\",\"#FF97FF\",\"#FECB52\"],\"font\":{\"color\":\"#2a3f5f\"},\"hovermode\":\"closest\",\"hoverlabel\":{\"align\":\"left\"},\"paper_bgcolor\":\"white\",\"plot_bgcolor\":\"#E5ECF6\",\"polar\":{\"bgcolor\":\"#E5ECF6\",\"angularaxis\":{\"gridcolor\":\"white\",\"linecolor\":\"white\",\"ticks\":\"\"},\"radialaxis\":{\"gridcolor\":\"white\",\"linecolor\":\"white\",\"ticks\":\"\"}},\"ternary\":{\"bgcolor\":\"#E5ECF6\",\"aaxis\":{\"gridcolor\":\"white\",\"linecolor\":\"white\",\"ticks\":\"\"},\"baxis\":{\"gridcolor\":\"white\",\"linecolor\":\"white\",\"ticks\":\"\"},\"caxis\":{\"gridcolor\":\"white\",\"linecolor\":\"white\",\"ticks\":\"\"}},\"coloraxis\":{\"colorbar\":{\"outlinewidth\":0,\"ticks\":\"\"}},\"colorscale\":{\"sequential\":[[0.0,\"#0d0887\"],[0.1111111111111111,\"#46039f\"],[0.2222222222222222,\"#7201a8\"],[0.3333333333333333,\"#9c179e\"],[0.4444444444444444,\"#bd3786\"],[0.5555555555555556,\"#d8576b\"],[0.6666666666666666,\"#ed7953\"],[0.7777777777777778,\"#fb9f3a\"],[0.8888888888888888,\"#fdca26\"],[1.0,\"#f0f921\"]],\"sequentialminus\":[[0.0,\"#0d0887\"],[0.1111111111111111,\"#46039f\"],[0.2222222222222222,\"#7201a8\"],[0.3333333333333333,\"#9c179e\"],[0.4444444444444444,\"#bd3786\"],[0.5555555555555556,\"#d8576b\"],[0.6666666666666666,\"#ed7953\"],[0.7777777777777778,\"#fb9f3a\"],[0.8888888888888888,\"#fdca26\"],[1.0,\"#f0f921\"]],\"diverging\":[[0,\"#8e0152\"],[0.1,\"#c51b7d\"],[0.2,\"#de77ae\"],[0.3,\"#f1b6da\"],[0.4,\"#fde0ef\"],[0.5,\"#f7f7f7\"],[0.6,\"#e6f5d0\"],[0.7,\"#b8e186\"],[0.8,\"#7fbc41\"],[0.9,\"#4d9221\"],[1,\"#276419\"]]},\"xaxis\":{\"gridcolor\":\"white\",\"linecolor\":\"white\",\"ticks\":\"\",\"title\":{\"standoff\":15},\"zerolinecolor\":\"white\",\"automargin\":true,\"zerolinewidth\":2},\"yaxis\":{\"gridcolor\":\"white\",\"linecolor\":\"white\",\"ticks\":\"\",\"title\":{\"standoff\":15},\"zerolinecolor\":\"white\",\"automargin\":true,\"zerolinewidth\":2},\"scene\":{\"xaxis\":{\"backgroundcolor\":\"#E5ECF6\",\"gridcolor\":\"white\",\"linecolor\":\"white\",\"showbackground\":true,\"ticks\":\"\",\"zerolinecolor\":\"white\",\"gridwidth\":2},\"yaxis\":{\"backgroundcolor\":\"#E5ECF6\",\"gridcolor\":\"white\",\"linecolor\":\"white\",\"showbackground\":true,\"ticks\":\"\",\"zerolinecolor\":\"white\",\"gridwidth\":2},\"zaxis\":{\"backgroundcolor\":\"#E5ECF6\",\"gridcolor\":\"white\",\"linecolor\":\"white\",\"showbackground\":true,\"ticks\":\"\",\"zerolinecolor\":\"white\",\"gridwidth\":2}},\"shapedefaults\":{\"line\":{\"color\":\"#2a3f5f\"}},\"annotationdefaults\":{\"arrowcolor\":\"#2a3f5f\",\"arrowhead\":0,\"arrowwidth\":1},\"geo\":{\"bgcolor\":\"white\",\"landcolor\":\"#E5ECF6\",\"subunitcolor\":\"white\",\"showland\":true,\"showlakes\":true,\"lakecolor\":\"white\"},\"title\":{\"x\":0.05},\"mapbox\":{\"style\":\"light\"}}},\"scene\":{\"domain\":{\"x\":[0.0,1.0],\"y\":[0.0,1.0]},\"xaxis\":{\"title\":{\"text\":\"X1\"}},\"yaxis\":{\"title\":{\"text\":\"X2\"}},\"zaxis\":{\"title\":{\"text\":\"X1*X2\"}}},\"coloraxis\":{\"colorbar\":{\"title\":{\"text\":\"Y\"}},\"colorscale\":[[0.0,\"#0d0887\"],[0.1111111111111111,\"#46039f\"],[0.2222222222222222,\"#7201a8\"],[0.3333333333333333,\"#9c179e\"],[0.4444444444444444,\"#bd3786\"],[0.5555555555555556,\"#d8576b\"],[0.6666666666666666,\"#ed7953\"],[0.7777777777777778,\"#fb9f3a\"],[0.8888888888888888,\"#fdca26\"],[1.0,\"#f0f921\"]]},\"legend\":{\"tracegroupgap\":0},\"margin\":{\"t\":60}},                        {\"responsive\": true}                    )                };            </script>        </div>"
      ],
      "text/plain": [
       "Figure({\n",
       "    'data': [{'hovertemplate': 'X1=%{x}<br>X2=%{y}<br>X1*X2=%{z}<br>Y=%{marker.color}<extra></extra>',\n",
       "              'legendgroup': '',\n",
       "              'marker': {'color': {'bdata': ('AAAAAAAAAAAAAAAAAAAAAAAAAAAAAA' ... 'EBAQEBAQEBAQEBAQEBAQEBAQEBAQ=='),\n",
       "                                   'dtype': 'i1'},\n",
       "                         'coloraxis': 'coloraxis',\n",
       "                         'symbol': 'circle'},\n",
       "              'mode': 'markers',\n",
       "              'name': '',\n",
       "              'scene': 'scene',\n",
       "              'showlegend': False,\n",
       "              'type': 'scatter3d',\n",
       "              'x': {'bdata': ('6y830QxSIUBFUglwgm8hQOSR0jEujC' ... 'LdsYL2v/sYuQKV/++/AAAAAAAAAIA='),\n",
       "                    'dtype': 'f8'},\n",
       "              'y': {'bdata': ('AAAAAAAAFMBDYt7OkJgTwIbEvJ0hMR' ... 'ydITETwERi3s6QmBPAAAAAAAAAFMA='),\n",
       "                    'dtype': 'f8'},\n",
       "              'z': {'bdata': ('5vuEBZCmRcA8YDcJrFpFwNB0wAZZDE' ... 'vDUgAbQOsQZUpPmBNAAAAAAAAAAAA='),\n",
       "                    'dtype': 'f8'}}],\n",
       "    'layout': {'coloraxis': {'colorbar': {'title': {'text': 'Y'}},\n",
       "                             'colorscale': [[0.0, '#0d0887'], [0.1111111111111111,\n",
       "                                            '#46039f'], [0.2222222222222222,\n",
       "                                            '#7201a8'], [0.3333333333333333,\n",
       "                                            '#9c179e'], [0.4444444444444444,\n",
       "                                            '#bd3786'], [0.5555555555555556,\n",
       "                                            '#d8576b'], [0.6666666666666666,\n",
       "                                            '#ed7953'], [0.7777777777777778,\n",
       "                                            '#fb9f3a'], [0.8888888888888888,\n",
       "                                            '#fdca26'], [1.0, '#f0f921']]},\n",
       "               'legend': {'tracegroupgap': 0},\n",
       "               'margin': {'t': 60},\n",
       "               'scene': {'domain': {'x': [0.0, 1.0], 'y': [0.0, 1.0]},\n",
       "                         'xaxis': {'title': {'text': 'X1'}},\n",
       "                         'yaxis': {'title': {'text': 'X2'}},\n",
       "                         'zaxis': {'title': {'text': 'X1*X2'}}},\n",
       "               'template': '...'}\n",
       "})"
      ]
     },
     "execution_count": 26,
     "metadata": {},
     "output_type": "execute_result"
    }
   ],
   "source": [
    "import plotly.express as px\n",
    "\n",
    "fig = px.scatter_3d(df, x='X1', y='X2', z='X1*X2',color='Y')\n",
    "fig"
   ]
  },
  {
   "cell_type": "code",
   "execution_count": 27,
   "metadata": {},
   "outputs": [
    {
     "ename": "ValueError",
     "evalue": "Mime type rendering requires nbformat>=4.2.0 but it is not installed",
     "output_type": "error",
     "traceback": [
      "\u001b[1;31m---------------------------------------------------------------------------\u001b[0m",
      "\u001b[1;31mValueError\u001b[0m                                Traceback (most recent call last)",
      "File \u001b[1;32m~\\AppData\\Roaming\\Python\\Python310\\site-packages\\IPython\\core\\formatters.py:984\u001b[0m, in \u001b[0;36mIPythonDisplayFormatter.__call__\u001b[1;34m(self, obj)\u001b[0m\n\u001b[0;32m    982\u001b[0m method \u001b[38;5;241m=\u001b[39m get_real_method(obj, \u001b[38;5;28mself\u001b[39m\u001b[38;5;241m.\u001b[39mprint_method)\n\u001b[0;32m    983\u001b[0m \u001b[38;5;28;01mif\u001b[39;00m method \u001b[38;5;129;01mis\u001b[39;00m \u001b[38;5;129;01mnot\u001b[39;00m \u001b[38;5;28;01mNone\u001b[39;00m:\n\u001b[1;32m--> 984\u001b[0m     \u001b[43mmethod\u001b[49m\u001b[43m(\u001b[49m\u001b[43m)\u001b[49m\n\u001b[0;32m    985\u001b[0m     \u001b[38;5;28;01mreturn\u001b[39;00m \u001b[38;5;28;01mTrue\u001b[39;00m\n",
      "File \u001b[1;32mc:\\Users\\salma\\AppData\\Local\\Programs\\Python\\Python310\\lib\\site-packages\\plotly\\basedatatypes.py:846\u001b[0m, in \u001b[0;36mBaseFigure._ipython_display_\u001b[1;34m(self)\u001b[0m\n\u001b[0;32m    843\u001b[0m \u001b[38;5;28;01mimport\u001b[39;00m\u001b[38;5;250m \u001b[39m\u001b[38;5;21;01mplotly\u001b[39;00m\u001b[38;5;21;01m.\u001b[39;00m\u001b[38;5;21;01mio\u001b[39;00m\u001b[38;5;250m \u001b[39m\u001b[38;5;28;01mas\u001b[39;00m\u001b[38;5;250m \u001b[39m\u001b[38;5;21;01mpio\u001b[39;00m\n\u001b[0;32m    845\u001b[0m \u001b[38;5;28;01mif\u001b[39;00m pio\u001b[38;5;241m.\u001b[39mrenderers\u001b[38;5;241m.\u001b[39mrender_on_display \u001b[38;5;129;01mand\u001b[39;00m pio\u001b[38;5;241m.\u001b[39mrenderers\u001b[38;5;241m.\u001b[39mdefault:\n\u001b[1;32m--> 846\u001b[0m     \u001b[43mpio\u001b[49m\u001b[38;5;241;43m.\u001b[39;49m\u001b[43mshow\u001b[49m\u001b[43m(\u001b[49m\u001b[38;5;28;43mself\u001b[39;49m\u001b[43m)\u001b[49m\n\u001b[0;32m    847\u001b[0m \u001b[38;5;28;01melse\u001b[39;00m:\n\u001b[0;32m    848\u001b[0m     \u001b[38;5;28mprint\u001b[39m(\u001b[38;5;28mrepr\u001b[39m(\u001b[38;5;28mself\u001b[39m))\n",
      "File \u001b[1;32mc:\\Users\\salma\\AppData\\Local\\Programs\\Python\\Python310\\lib\\site-packages\\plotly\\io\\_renderers.py:425\u001b[0m, in \u001b[0;36mshow\u001b[1;34m(fig, renderer, validate, **kwargs)\u001b[0m\n\u001b[0;32m    420\u001b[0m     \u001b[38;5;28;01mraise\u001b[39;00m \u001b[38;5;167;01mValueError\u001b[39;00m(\n\u001b[0;32m    421\u001b[0m         \u001b[38;5;124m\"\u001b[39m\u001b[38;5;124mMime type rendering requires ipython but it is not installed\u001b[39m\u001b[38;5;124m\"\u001b[39m\n\u001b[0;32m    422\u001b[0m     )\n\u001b[0;32m    424\u001b[0m \u001b[38;5;28;01mif\u001b[39;00m \u001b[38;5;129;01mnot\u001b[39;00m nbformat \u001b[38;5;129;01mor\u001b[39;00m Version(nbformat\u001b[38;5;241m.\u001b[39m__version__) \u001b[38;5;241m<\u001b[39m Version(\u001b[38;5;124m\"\u001b[39m\u001b[38;5;124m4.2.0\u001b[39m\u001b[38;5;124m\"\u001b[39m):\n\u001b[1;32m--> 425\u001b[0m     \u001b[38;5;28;01mraise\u001b[39;00m \u001b[38;5;167;01mValueError\u001b[39;00m(\n\u001b[0;32m    426\u001b[0m         \u001b[38;5;124m\"\u001b[39m\u001b[38;5;124mMime type rendering requires nbformat>=4.2.0 but it is not installed\u001b[39m\u001b[38;5;124m\"\u001b[39m\n\u001b[0;32m    427\u001b[0m     )\n\u001b[0;32m    429\u001b[0m display_jupyter_version_warnings()\n\u001b[0;32m    431\u001b[0m ipython_display\u001b[38;5;241m.\u001b[39mdisplay(bundle, raw\u001b[38;5;241m=\u001b[39m\u001b[38;5;28;01mTrue\u001b[39;00m)\n",
      "\u001b[1;31mValueError\u001b[0m: Mime type rendering requires nbformat>=4.2.0 but it is not installed"
     ]
    },
    {
     "data": {
      "application/vnd.plotly.v1+json": {
       "config": {
        "plotlyServerURL": "https://plot.ly"
       },
       "data": [
        {
         "hovertemplate": "X1_Square=%{x}<br>X2_Square=%{y}<br>X1*X2=%{z}<br>Y=%{marker.color}<extra></extra>",
         "legendgroup": "",
         "marker": {
          "color": {
           "bdata": "AAAAAAAAAAAAAAAAAAAAAAAAAAAAAAAAAAAAAAAAAAAAAAAAAAAAAAAAAAAAAAAAAAAAAAAAAAAAAAAAAAAAAAAAAAAAAAAAAAAAAAAAAAAAAAAAAAAAAAAAAAAAAAAAAAAAAAAAAAAAAAAAAAAAAAAAAAAAAAAAAAAAAAAAAAAAAAAAAAAAAAAAAAAAAAAAAAAAAAAAAAAAAAAAAAAAAAAAAAAAAAAAAAAAAAAAAAAAAAAAAAAAAAAAAAAAAAAAAAAAAAAAAAABAQEBAQEBAQEBAQEBAQEBAQEBAQEBAQEBAQEBAQEBAQEBAQEBAQEBAQEBAQEBAQEBAQEBAQEBAQEBAQEBAQEBAQEBAQEBAQEBAQEBAQEBAQEBAQEBAQEBAQEBAQEBAQEBAQEBAQEBAQEBAQEBAQEBAQEBAQEBAQEBAQEBAQEBAQEBAQEBAQEBAQEBAQEBAQEBAQEBAQEBAQEBAQEBAQEBAQEBAQEBAQEBAQEBAQEBAQEBAQEBAQEBAQEBAQEBAQEBAQEBAQEBAQ==",
           "dtype": "i1"
          },
          "coloraxis": "coloraxis",
          "symbol": "circle"
         },
         "mode": "markers",
         "name": "",
         "scene": "scene",
         "showlegend": false,
         "type": "scatter3d",
         "x": {
          "bdata": "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",
          "dtype": "f8"
         },
         "y": {
          "bdata": "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",
          "dtype": "f8"
         },
         "z": {
          "bdata": "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",
          "dtype": "f8"
         }
        }
       ],
       "layout": {
        "coloraxis": {
         "colorbar": {
          "title": {
           "text": "Y"
          }
         },
         "colorscale": [
          [
           0,
           "#0d0887"
          ],
          [
           0.1111111111111111,
           "#46039f"
          ],
          [
           0.2222222222222222,
           "#7201a8"
          ],
          [
           0.3333333333333333,
           "#9c179e"
          ],
          [
           0.4444444444444444,
           "#bd3786"
          ],
          [
           0.5555555555555556,
           "#d8576b"
          ],
          [
           0.6666666666666666,
           "#ed7953"
          ],
          [
           0.7777777777777778,
           "#fb9f3a"
          ],
          [
           0.8888888888888888,
           "#fdca26"
          ],
          [
           1,
           "#f0f921"
          ]
         ]
        },
        "legend": {
         "tracegroupgap": 0
        },
        "margin": {
         "t": 60
        },
        "scene": {
         "domain": {
          "x": [
           0,
           1
          ],
          "y": [
           0,
           1
          ]
         },
         "xaxis": {
          "title": {
           "text": "X1_Square"
          }
         },
         "yaxis": {
          "title": {
           "text": "X2_Square"
          }
         },
         "zaxis": {
          "title": {
           "text": "X1*X2"
          }
         }
        },
        "template": {
         "data": {
          "bar": [
           {
            "error_x": {
             "color": "#2a3f5f"
            },
            "error_y": {
             "color": "#2a3f5f"
            },
            "marker": {
             "line": {
              "color": "#E5ECF6",
              "width": 0.5
             },
             "pattern": {
              "fillmode": "overlay",
              "size": 10,
              "solidity": 0.2
             }
            },
            "type": "bar"
           }
          ],
          "barpolar": [
           {
            "marker": {
             "line": {
              "color": "#E5ECF6",
              "width": 0.5
             },
             "pattern": {
              "fillmode": "overlay",
              "size": 10,
              "solidity": 0.2
             }
            },
            "type": "barpolar"
           }
          ],
          "carpet": [
           {
            "aaxis": {
             "endlinecolor": "#2a3f5f",
             "gridcolor": "white",
             "linecolor": "white",
             "minorgridcolor": "white",
             "startlinecolor": "#2a3f5f"
            },
            "baxis": {
             "endlinecolor": "#2a3f5f",
             "gridcolor": "white",
             "linecolor": "white",
             "minorgridcolor": "white",
             "startlinecolor": "#2a3f5f"
            },
            "type": "carpet"
           }
          ],
          "choropleth": [
           {
            "colorbar": {
             "outlinewidth": 0,
             "ticks": ""
            },
            "type": "choropleth"
           }
          ],
          "contour": [
           {
            "colorbar": {
             "outlinewidth": 0,
             "ticks": ""
            },
            "colorscale": [
             [
              0,
              "#0d0887"
             ],
             [
              0.1111111111111111,
              "#46039f"
             ],
             [
              0.2222222222222222,
              "#7201a8"
             ],
             [
              0.3333333333333333,
              "#9c179e"
             ],
             [
              0.4444444444444444,
              "#bd3786"
             ],
             [
              0.5555555555555556,
              "#d8576b"
             ],
             [
              0.6666666666666666,
              "#ed7953"
             ],
             [
              0.7777777777777778,
              "#fb9f3a"
             ],
             [
              0.8888888888888888,
              "#fdca26"
             ],
             [
              1,
              "#f0f921"
             ]
            ],
            "type": "contour"
           }
          ],
          "contourcarpet": [
           {
            "colorbar": {
             "outlinewidth": 0,
             "ticks": ""
            },
            "type": "contourcarpet"
           }
          ],
          "heatmap": [
           {
            "colorbar": {
             "outlinewidth": 0,
             "ticks": ""
            },
            "colorscale": [
             [
              0,
              "#0d0887"
             ],
             [
              0.1111111111111111,
              "#46039f"
             ],
             [
              0.2222222222222222,
              "#7201a8"
             ],
             [
              0.3333333333333333,
              "#9c179e"
             ],
             [
              0.4444444444444444,
              "#bd3786"
             ],
             [
              0.5555555555555556,
              "#d8576b"
             ],
             [
              0.6666666666666666,
              "#ed7953"
             ],
             [
              0.7777777777777778,
              "#fb9f3a"
             ],
             [
              0.8888888888888888,
              "#fdca26"
             ],
             [
              1,
              "#f0f921"
             ]
            ],
            "type": "heatmap"
           }
          ],
          "histogram": [
           {
            "marker": {
             "pattern": {
              "fillmode": "overlay",
              "size": 10,
              "solidity": 0.2
             }
            },
            "type": "histogram"
           }
          ],
          "histogram2d": [
           {
            "colorbar": {
             "outlinewidth": 0,
             "ticks": ""
            },
            "colorscale": [
             [
              0,
              "#0d0887"
             ],
             [
              0.1111111111111111,
              "#46039f"
             ],
             [
              0.2222222222222222,
              "#7201a8"
             ],
             [
              0.3333333333333333,
              "#9c179e"
             ],
             [
              0.4444444444444444,
              "#bd3786"
             ],
             [
              0.5555555555555556,
              "#d8576b"
             ],
             [
              0.6666666666666666,
              "#ed7953"
             ],
             [
              0.7777777777777778,
              "#fb9f3a"
             ],
             [
              0.8888888888888888,
              "#fdca26"
             ],
             [
              1,
              "#f0f921"
             ]
            ],
            "type": "histogram2d"
           }
          ],
          "histogram2dcontour": [
           {
            "colorbar": {
             "outlinewidth": 0,
             "ticks": ""
            },
            "colorscale": [
             [
              0,
              "#0d0887"
             ],
             [
              0.1111111111111111,
              "#46039f"
             ],
             [
              0.2222222222222222,
              "#7201a8"
             ],
             [
              0.3333333333333333,
              "#9c179e"
             ],
             [
              0.4444444444444444,
              "#bd3786"
             ],
             [
              0.5555555555555556,
              "#d8576b"
             ],
             [
              0.6666666666666666,
              "#ed7953"
             ],
             [
              0.7777777777777778,
              "#fb9f3a"
             ],
             [
              0.8888888888888888,
              "#fdca26"
             ],
             [
              1,
              "#f0f921"
             ]
            ],
            "type": "histogram2dcontour"
           }
          ],
          "mesh3d": [
           {
            "colorbar": {
             "outlinewidth": 0,
             "ticks": ""
            },
            "type": "mesh3d"
           }
          ],
          "parcoords": [
           {
            "line": {
             "colorbar": {
              "outlinewidth": 0,
              "ticks": ""
             }
            },
            "type": "parcoords"
           }
          ],
          "pie": [
           {
            "automargin": true,
            "type": "pie"
           }
          ],
          "scatter": [
           {
            "fillpattern": {
             "fillmode": "overlay",
             "size": 10,
             "solidity": 0.2
            },
            "type": "scatter"
           }
          ],
          "scatter3d": [
           {
            "line": {
             "colorbar": {
              "outlinewidth": 0,
              "ticks": ""
             }
            },
            "marker": {
             "colorbar": {
              "outlinewidth": 0,
              "ticks": ""
             }
            },
            "type": "scatter3d"
           }
          ],
          "scattercarpet": [
           {
            "marker": {
             "colorbar": {
              "outlinewidth": 0,
              "ticks": ""
             }
            },
            "type": "scattercarpet"
           }
          ],
          "scattergeo": [
           {
            "marker": {
             "colorbar": {
              "outlinewidth": 0,
              "ticks": ""
             }
            },
            "type": "scattergeo"
           }
          ],
          "scattergl": [
           {
            "marker": {
             "colorbar": {
              "outlinewidth": 0,
              "ticks": ""
             }
            },
            "type": "scattergl"
           }
          ],
          "scattermap": [
           {
            "marker": {
             "colorbar": {
              "outlinewidth": 0,
              "ticks": ""
             }
            },
            "type": "scattermap"
           }
          ],
          "scattermapbox": [
           {
            "marker": {
             "colorbar": {
              "outlinewidth": 0,
              "ticks": ""
             }
            },
            "type": "scattermapbox"
           }
          ],
          "scatterpolar": [
           {
            "marker": {
             "colorbar": {
              "outlinewidth": 0,
              "ticks": ""
             }
            },
            "type": "scatterpolar"
           }
          ],
          "scatterpolargl": [
           {
            "marker": {
             "colorbar": {
              "outlinewidth": 0,
              "ticks": ""
             }
            },
            "type": "scatterpolargl"
           }
          ],
          "scatterternary": [
           {
            "marker": {
             "colorbar": {
              "outlinewidth": 0,
              "ticks": ""
             }
            },
            "type": "scatterternary"
           }
          ],
          "surface": [
           {
            "colorbar": {
             "outlinewidth": 0,
             "ticks": ""
            },
            "colorscale": [
             [
              0,
              "#0d0887"
             ],
             [
              0.1111111111111111,
              "#46039f"
             ],
             [
              0.2222222222222222,
              "#7201a8"
             ],
             [
              0.3333333333333333,
              "#9c179e"
             ],
             [
              0.4444444444444444,
              "#bd3786"
             ],
             [
              0.5555555555555556,
              "#d8576b"
             ],
             [
              0.6666666666666666,
              "#ed7953"
             ],
             [
              0.7777777777777778,
              "#fb9f3a"
             ],
             [
              0.8888888888888888,
              "#fdca26"
             ],
             [
              1,
              "#f0f921"
             ]
            ],
            "type": "surface"
           }
          ],
          "table": [
           {
            "cells": {
             "fill": {
              "color": "#EBF0F8"
             },
             "line": {
              "color": "white"
             }
            },
            "header": {
             "fill": {
              "color": "#C8D4E3"
             },
             "line": {
              "color": "white"
             }
            },
            "type": "table"
           }
          ]
         },
         "layout": {
          "annotationdefaults": {
           "arrowcolor": "#2a3f5f",
           "arrowhead": 0,
           "arrowwidth": 1
          },
          "autotypenumbers": "strict",
          "coloraxis": {
           "colorbar": {
            "outlinewidth": 0,
            "ticks": ""
           }
          },
          "colorscale": {
           "diverging": [
            [
             0,
             "#8e0152"
            ],
            [
             0.1,
             "#c51b7d"
            ],
            [
             0.2,
             "#de77ae"
            ],
            [
             0.3,
             "#f1b6da"
            ],
            [
             0.4,
             "#fde0ef"
            ],
            [
             0.5,
             "#f7f7f7"
            ],
            [
             0.6,
             "#e6f5d0"
            ],
            [
             0.7,
             "#b8e186"
            ],
            [
             0.8,
             "#7fbc41"
            ],
            [
             0.9,
             "#4d9221"
            ],
            [
             1,
             "#276419"
            ]
           ],
           "sequential": [
            [
             0,
             "#0d0887"
            ],
            [
             0.1111111111111111,
             "#46039f"
            ],
            [
             0.2222222222222222,
             "#7201a8"
            ],
            [
             0.3333333333333333,
             "#9c179e"
            ],
            [
             0.4444444444444444,
             "#bd3786"
            ],
            [
             0.5555555555555556,
             "#d8576b"
            ],
            [
             0.6666666666666666,
             "#ed7953"
            ],
            [
             0.7777777777777778,
             "#fb9f3a"
            ],
            [
             0.8888888888888888,
             "#fdca26"
            ],
            [
             1,
             "#f0f921"
            ]
           ],
           "sequentialminus": [
            [
             0,
             "#0d0887"
            ],
            [
             0.1111111111111111,
             "#46039f"
            ],
            [
             0.2222222222222222,
             "#7201a8"
            ],
            [
             0.3333333333333333,
             "#9c179e"
            ],
            [
             0.4444444444444444,
             "#bd3786"
            ],
            [
             0.5555555555555556,
             "#d8576b"
            ],
            [
             0.6666666666666666,
             "#ed7953"
            ],
            [
             0.7777777777777778,
             "#fb9f3a"
            ],
            [
             0.8888888888888888,
             "#fdca26"
            ],
            [
             1,
             "#f0f921"
            ]
           ]
          },
          "colorway": [
           "#636efa",
           "#EF553B",
           "#00cc96",
           "#ab63fa",
           "#FFA15A",
           "#19d3f3",
           "#FF6692",
           "#B6E880",
           "#FF97FF",
           "#FECB52"
          ],
          "font": {
           "color": "#2a3f5f"
          },
          "geo": {
           "bgcolor": "white",
           "lakecolor": "white",
           "landcolor": "#E5ECF6",
           "showlakes": true,
           "showland": true,
           "subunitcolor": "white"
          },
          "hoverlabel": {
           "align": "left"
          },
          "hovermode": "closest",
          "mapbox": {
           "style": "light"
          },
          "paper_bgcolor": "white",
          "plot_bgcolor": "#E5ECF6",
          "polar": {
           "angularaxis": {
            "gridcolor": "white",
            "linecolor": "white",
            "ticks": ""
           },
           "bgcolor": "#E5ECF6",
           "radialaxis": {
            "gridcolor": "white",
            "linecolor": "white",
            "ticks": ""
           }
          },
          "scene": {
           "xaxis": {
            "backgroundcolor": "#E5ECF6",
            "gridcolor": "white",
            "gridwidth": 2,
            "linecolor": "white",
            "showbackground": true,
            "ticks": "",
            "zerolinecolor": "white"
           },
           "yaxis": {
            "backgroundcolor": "#E5ECF6",
            "gridcolor": "white",
            "gridwidth": 2,
            "linecolor": "white",
            "showbackground": true,
            "ticks": "",
            "zerolinecolor": "white"
           },
           "zaxis": {
            "backgroundcolor": "#E5ECF6",
            "gridcolor": "white",
            "gridwidth": 2,
            "linecolor": "white",
            "showbackground": true,
            "ticks": "",
            "zerolinecolor": "white"
           }
          },
          "shapedefaults": {
           "line": {
            "color": "#2a3f5f"
           }
          },
          "ternary": {
           "aaxis": {
            "gridcolor": "white",
            "linecolor": "white",
            "ticks": ""
           },
           "baxis": {
            "gridcolor": "white",
            "linecolor": "white",
            "ticks": ""
           },
           "bgcolor": "#E5ECF6",
           "caxis": {
            "gridcolor": "white",
            "linecolor": "white",
            "ticks": ""
           }
          },
          "title": {
           "x": 0.05
          },
          "xaxis": {
           "automargin": true,
           "gridcolor": "white",
           "linecolor": "white",
           "ticks": "",
           "title": {
            "standoff": 15
           },
           "zerolinecolor": "white",
           "zerolinewidth": 2
          },
          "yaxis": {
           "automargin": true,
           "gridcolor": "white",
           "linecolor": "white",
           "ticks": "",
           "title": {
            "standoff": 15
           },
           "zerolinecolor": "white",
           "zerolinewidth": 2
          }
         }
        }
       }
      },
      "text/html": [
       "<div>                        <script type=\"text/javascript\">window.PlotlyConfig = {MathJaxConfig: 'local'};</script>\n",
       "        <script charset=\"utf-8\" src=\"https://cdn.plot.ly/plotly-3.0.1.min.js\"></script>                <div id=\"01a88f8f-bde4-4eb6-8c0f-1e792c21882a\" class=\"plotly-graph-div\" style=\"height:100%; width:100%;\"></div>            <script type=\"text/javascript\">                window.PLOTLYENV=window.PLOTLYENV || {};                                if (document.getElementById(\"01a88f8f-bde4-4eb6-8c0f-1e792c21882a\")) {                    Plotly.newPlot(                        \"01a88f8f-bde4-4eb6-8c0f-1e792c21882a\",                        [{\"hovertemplate\":\"X1_Square=%{x}\\u003cbr\\u003eX2_Square=%{y}\\u003cbr\\u003eX1*X2=%{z}\\u003cbr\\u003eY=%{marker.color}\\u003cextra\\u003e\\u003c\\u002fextra\\u003e\",\"legendgroup\":\"\",\"marker\":{\"color\":{\"dtype\":\"i1\",\"bdata\":\"AAAAAAAAAAAAAAAAAAAAAAAAAAAAAAAAAAAAAAAAAAAAAAAAAAAAAAAAAAAAAAAAAAAAAAAAAAAAAAAAAAAAAAAAAAAAAAAAAAAAAAAAAAAAAAAAAAAAAAAAAAAAAAAAAAAAAAAAAAAAAAAAAAAAAAAAAAAAAAAAAAAAAAAAAAAAAAAAAAAAAAAAAAAAAAAAAAAAAAAAAAAAAAAAAAAAAAAAAAAAAAAAAAAAAAAAAAAAAAAAAAAAAAAAAAAAAAAAAAAAAAAAAAABAQEBAQEBAQEBAQEBAQEBAQEBAQEBAQEBAQEBAQEBAQEBAQEBAQEBAQEBAQEBAQEBAQEBAQEBAQEBAQEBAQEBAQEBAQEBAQEBAQEBAQEBAQEBAQEBAQEBAQEBAQEBAQEBAQEBAQEBAQEBAQEBAQEBAQEBAQEBAQEBAQEBAQEBAQEBAQEBAQEBAQEBAQEBAQEBAQEBAQEBAQEBAQEBAQEBAQEBAQEBAQEBAQEBAQEBAQEBAQEBAQEBAQEBAQEBAQEBAQEBAQEBAQ==\"},\"coloraxis\":\"coloraxis\",\"symbol\":\"circle\"},\"mode\":\"markers\",\"name\":\"\",\"scene\":\"scene\",\"showlegend\":false,\"x\":{\"dtype\":\"f8\",\"bdata\":\"AQAAAADAUkDQrw1U\\u002fv9SQBS6zFKuPlNAzR49\\u002fA98U0D23V5QI7hTQJf3MU\\u002fo8lNAq2u2+F4sVEAzOuxMh2RUQC5j00thm1RAnOZr9ezQVECAxLVJKgVVQNb8sEgZOFVAoo9d8rlpVUDifLtGDJpVQJPEykUQyVVAu2aL78X2VUBVY\\u002f1DLSNWQGO6IENGTlZA5mv17BB4VkDed3tBjaBWQEjeskC7x1ZAJZ+b6prtVkB4ujU\\u002fLBJXQD8wgT5vNVdAeAB+6GNXV0AlKyw9CnhXQEewizxil1dA3o+c5mu1V0DoyV47J9JXQGZe0jqU7VdAV0335LIHWEC9ls05gyBYQJY6VTkFOFhA5TiO4zhOWECkkXg4HmNYQNlEFDi1dlhAg1Jh4v2IWEChul83+JlYQDB9DzekqVhANppw4QG4WECuEYM2EcVYQJ3jRjbS0FhA\\u002fA+84ETbWEDQluI1aeRYQBp4ujU\\u002f7FhA1bND4MbyWEAGSn41APhYQKk6ajXr+1hAwoUH4If+WEBPK1Y11v9YQE8rVjXW\\u002f1hAwoUH4If+WECpOmo16\\u002ftYQAZKfjUA+FhA1bND4MbyWEAaeLo1P+xYQNCW4jVp5FhA\\u002fA+84ETbWECd40Y20tBYQK4RgzYRxVhANppw4QG4WEAwfQ83pKlYQKG6Xzf4mVhAg1Jh4v2IWEDZRBQ4tXZYQKSReDgeY1hA5TiO4zhOWECWOlU5BThYQL2WzTmDIFhAV0335LIHWEBmXtI6lO1XQOjJXjsn0ldA3o+c5mu1V0BHsIs8YpdXQCUrLD0KeFdAegB+6GNXV0A\\u002fMIE+bzVXQHi6NT8sEldAJZ+b6prtVkBI3rJAu8dWQN53e0GNoFZA5mv17BB4VkBjuiBDRk5WQFVj\\u002fUMtI1ZAu2aL78X2VUCTxMpFEMlVQOJ8u0YMmlVAoo9d8rlpVUDW\\u002fLBIGThVQIDEtUkqBVVAnOZr9ezQVEAuY9NLYZtUQDM67EyHZFRAq2u2+F4sVECX9zFP6PJTQPndXlAjuFNAzR49\\u002fA98U0AUusxSrj5TQNCvDVT+\\u002f1JAAQAAAADAUkABAAAAAMBSQNCvDVT+\\u002f1JAFLrMUq4+U0DNHj38D3xTQPbdXlAjuFNAl\\u002fcxT+jyU0Cra7b4XixUQDM67EyHZFRALmPTS2GbVECc5mv17NBUQIDEtUkqBVVA1vywSBk4VUCij13yuWlVQOJ8u0YMmlVAk8TKRRDJVUC7ZovvxfZVQFVj\\u002fUMtI1ZAY7ogQ0ZOVkDma\\u002fXsEHhWQN53e0GNoFZASN6yQLvHVkAln5vqmu1WQHi6NT8sEldAPzCBPm81V0B4AH7oY1dXQCUrLD0KeFdAR7CLPGKXV0Dej5zma7VXQOjJXjsn0ldAZl7SOpTtV0BXTffksgdYQL2WzTmDIFhAljpVOQU4WEDlOI7jOE5YQKSReDgeY1hA2UQUOLV2WECDUmHi\\u002fYhYQKG6Xzf4mVhAMH0PN6SpWEA2mnDhAbhYQK4RgzYRxVhAneNGNtLQWED8D7zgRNtYQNCW4jVp5FhAGni6NT\\u002fsWEDVs0PgxvJYQAZKfjUA+FhAqTpqNev7WEDChQfgh\\u002f5YQE8rVjXW\\u002f1hATytWNdb\\u002fWEDChQfgh\\u002f5YQKk6ajXr+1hABkp+NQD4WEDVs0PgxvJYQBp4ujU\\u002f7FhA0JbiNWnkWED8D7zgRNtYQJ3jRjbS0FhArhGDNhHFWEA2mnDhAbhYQDB9DzekqVhAobpfN\\u002fiZWECDUmHi\\u002fYhYQNlEFDi1dlhApJF4OB5jWEDlOI7jOE5YQJY6VTkFOFhAvZbNOYMgWEBXTffksgdYQGZe0jqU7VdA6MleOyfSV0Dej5zma7VXQEewizxil1dAJSssPQp4V0B6AH7oY1dXQD8wgT5vNVdAeLo1PywSV0Aln5vqmu1WQEjeskC7x1ZA3nd7QY2gVkDma\\u002fXsEHhWQGO6IENGTlZAVWP9Qy0jVkC7ZovvxfZVQJPEykUQyVVA4ny7RgyaVUCij13yuWlVQNb8sEgZOFVAgMS1SSoFVUCc5mv17NBUQC5j00thm1RAMzrsTIdkVECra7b4XixUQJf3MU\\u002fo8lNA+d1eUCO4U0DNHj38D3xTQBS6zFKuPlNA0K8NVP7\\u002fUkABAAAAAMBSQAAAAAAAAAAAAOjXBir\\u002f7z8BhS6zlKv\\u002fP2\\u002fZo4f\\u002fgQdA577bC2oED0BweR\\u002fzhC4TQKu6ZovvxRZAG6PDznRIGkDTMja9FLYdQOM0X6tnhyBAACSuTVIpIkC45odFysAjQA597JLPTSVACOfbNWLQJkCgJFYugkgoQNY1W3wvtilAqhrrH2oZK0Ah0wUZMnIsQDRfq2eHwC1A6b7bC2oEL0AeecsC7R4wQJh8bqprtjBA4OnW\\u002fLBIMUD5wAT6vNUxQOEB+KGPXTJAmqyw9CjgMkAhwS7yiF0zQHg\\u002fcpqv1TNAoSd77ZxINECWeUnrULY0QF413ZPLHjVA8lo25wyCNUBa6lTlFOA1QI\\u002fjOI7jODZAkkbi4XiMNkBpE1Hg1No2QA5KhYn3IzdAgup+3eBnN0DE9D3ckKY3QNhowoUH4DdAvEYM2kQUOEBujhvZSEM4QPI\\u002f8IITbThAQ1uK16SROEBm4OnW\\u002fLA4QFjPDoEbyzhAGCj51QDgOECp6qjVrO84QAsXHoAf+jhAOa1Y1Vj\\u002fOEA5rVjVWP84QAsXHoAf+jhAqeqo1azvOEAYKPnVAOA4QFjPDoEbyzhAZuDp1vywOEBDW4rXpJE4QPI\\u002f8IITbThAbo4b2UhDOEC8RgzaRBQ4QNhowoUH4DdAxPQ93JCmN0CC6n7d4Gc3QA5KhYn3IzdAaRNR4NTaNkCSRuLheIw2QI\\u002fjOI7jODZAWupU5RTgNUDyWjbnDII1QF413ZPLHjVAlnlJ61C2NEChJ3vtnEg0QHg\\u002fcpqv1TNAIcEu8ohdM0CarLD0KOAyQOEB+KGPXTJA+8AE+rzVMUDg6db8sEgxQJh8bqprtjBAIHnLAu0eMEDnvtsLagQvQDRfq2eHwC1AI9MFGTJyLECqGusfahkrQNc1W3wvtilAnCRWLoJIKEAI59s1YtAmQBN97JLPTSVAtuaHRcrAI0AAJK5NUikiQOg0X6tnhyBA0zI2vRS2HUAjo8POdEgaQJ+6ZovvxRZAcHkf84QuE0D5vtsLagQPQG\\u002fZo4f\\u002fgQdAAYUus5Sr\\u002fz\\u002fA59cGKv\\u002fvPwAAAAAAAAAAAAAAAAAAAAAA6NcGKv\\u002fvPwGFLrOUq\\u002f8\\u002fb9mjh\\u002f+BB0DnvtsLagQPQHB5H\\u002fOELhNAq7pmi+\\u002fFFkAbo8POdEgaQNMyNr0Uth1A4zRfq2eHIEAAJK5NUikiQLjmh0XKwCNADn3sks9NJUAI59s1YtAmQKAkVi6CSChA1jVbfC+2KUCqGusfahkrQCHTBRkycixANF+rZ4fALUDpvtsLagQvQB55ywLtHjBAmHxuqmu2MEDg6db8sEgxQPnABPq81TFA4QH4oY9dMkCarLD0KOAyQCHBLvKIXTNAeD9ymq\\u002fVM0ChJ3vtnEg0QJZ5SetQtjRAXjXdk8seNUDyWjbnDII1QFrqVOUU4DVAj+M4juM4NkCSRuLheIw2QGkTUeDU2jZADkqFifcjN0CC6n7d4Gc3QMT0PdyQpjdA2GjChQfgN0C8RgzaRBQ4QG6OG9lIQzhA8j\\u002fwghNtOEBDW4rXpJE4QGbg6db8sDhAWM8OgRvLOEAYKPnVAOA4QKnqqNWs7zhACxcegB\\u002f6OEA5rVjVWP84QDmtWNVY\\u002fzhACxcegB\\u002f6OECp6qjVrO84QBgo+dUA4DhAWM8OgRvLOEBm4OnW\\u002fLA4QENbitekkThA8j\\u002fwghNtOEBujhvZSEM4QLxGDNpEFDhA2GjChQfgN0DE9D3ckKY3QILqft3gZzdADkqFifcjN0BpE1Hg1No2QJJG4uF4jDZAj+M4juM4NkBa6lTlFOA1QPJaNucMgjVAXjXdk8seNUCWeUnrULY0QKEne+2cSDRAeD9ymq\\u002fVM0AhwS7yiF0zQJqssPQo4DJA4QH4oY9dMkD7wAT6vNUxQODp1vywSDFAmHxuqmu2MEAgecsC7R4wQOe+2wtqBC9ANF+rZ4fALUAj0wUZMnIsQKoa6x9qGStA1zVbfC+2KUCcJFYugkgoQAjn2zVi0CZAE33sks9NJUC25odFysAjQAAkrk1SKSJA6DRfq2eHIEDTMja9FLYdQCOjw850SBpAn7pmi+\\u002fFFkBweR\\u002fzhC4TQPm+2wtqBA9Ab9mjh\\u002f+BB0ABhS6zlKv\\u002fP8Dn1wYq\\u002f+8\\u002fAAAAAAAAAAA=\"},\"y\":{\"dtype\":\"f8\",\"bdata\":\"AAAAAAAAOUDAQMmvBgA4QLAXzbRGBTdA0oQLD8APNkAjiIS+ch81QKQhOMNeNDRAVVEmHYROM0A5F0\\u002fM4m0yQEtzstB6kjFAjmVQKky8MEAA3FGyrdYvQEgZeLo1Py5A8YITbTCyLED4GCTKnS8rQGDbqdF9tylAK8qkg9BJKEBW5RTgleYmQOAs+ubNjSVAy6BUmHg\\u002fJEAXQST0lfsiQMMNafolwiFA0gYjqyiTIEB+WKQMPN0eQB387BcMqRxAevgfeMGJGkCbTT0tXH8YQHv7RDfciRZAHwI3lkGpFECBYRNKjN0SQKcZ2lK8JhFAGVUWYaMJD0BqKE3GmO8LQDqtWNVY\\u002fwhAjeM4juM4BkBmy+3wOJwDQL5kd\\u002f1YKQFANl+rZ4fA\\u002fT\\u002fxVxEo8oH5P7azIDzylvU\\u002fe3LZo4f\\u002f8T+MKHe+ZHftPzoyjtzkluc\\u002f5AH4oY9d4j8zL2kdypbbP7Pmh0XKwNM\\u002fsVSYeD9yyj8G6NcGKv+\\u002fPwRXFVcqU7A\\u002fZ9mjh\\u002f+Blz\\u002f6wFjqVOVkP\\u002frAWOpU5WQ\\u002fZ9mjh\\u002f+Blz8EVxVXKlOwPwbo1wYq\\u002f78\\u002flFSYeD9yyj+z5odFysDTPzMvaR3Klts\\u002f5AH4oY9d4j8tMo7c5JbnP4wod75kd+0\\u002fe3LZo4f\\u002f8T+2syA88pb1P+xXESjygfk\\u002fMV+rZ4fA\\u002fT++ZHf9WCkBQGbL7fA4nANAkOM4juM4BkA3rVjVWP8IQGcoTcaY7wtAGVUWYaMJD0CnGdpSvCYRQH9hE0qM3RJAHAI3lkGpFEB7+0Q33IkWQJtNPS1cfxhAd\\u002fgfeMGJGkAa\\u002fOwXDKkcQH5YpAw83R5A0gYjqyiTIEDCDWn6JcIhQBlBJPSV+yJAy6BUmHg\\u002fJEDdLPrmzY0lQFblFOCV5iZAKcqkg9BJKEBk26nRfbcpQPgYJMqdLytA7YITbTCyLEBKGXi6NT8uQADcUbKt1i9AjGVQKky8MEBLc7LQepIxQDcXT8zibTJAWFEmHYROM0CkITjDXjQ0QCGIhL5yHzVA0oQLD8APNkCwF820RgU3QMJAya8GADhAAAAAAAAAOUAAAAAAAAA5QMBAya8GADhAsBfNtEYFN0DShAsPwA82QCOIhL5yHzVApCE4w140NEBVUSYdhE4zQDkXT8zibTJAS3Oy0HqSMUCOZVAqTLwwQADcUbKt1i9ASBl4ujU\\u002fLkDxghNtMLIsQPgYJMqdLytAYNup0X23KUAryqSD0EkoQFblFOCV5iZA4Cz65s2NJUDLoFSYeD8kQBdBJPSV+yJAww1p+iXCIUDSBiOrKJMgQH5YpAw83R5AHfzsFwypHEB6+B94wYkaQJtNPS1cfxhAe\\u002ftEN9yJFkAfAjeWQakUQIFhE0qM3RJApxnaUrwmEUAZVRZhowkPQGooTcaY7wtAOq1Y1Vj\\u002fCECN4ziO4zgGQGbL7fA4nANAvmR3\\u002fVgpAUA2X6tnh8D9P\\u002fFXESjygfk\\u002ftrMgPPKW9T97ctmjh\\u002f\\u002fxP4wod75kd+0\\u002fOjKO3OSW5z\\u002fkAfihj13iPzMvaR3Klts\\u002fs+aHRcrA0z+xVJh4P3LKPwbo1wYq\\u002f78\\u002fBFcVVypTsD9n2aOH\\u002f4GXP\\u002frAWOpU5WQ\\u002f+sBY6lTlZD9n2aOH\\u002f4GXPwRXFVcqU7A\\u002fBujXBir\\u002fvz+UVJh4P3LKP7Pmh0XKwNM\\u002fMy9pHcqW2z\\u002fkAfihj13iPy0yjtzkluc\\u002fjCh3vmR37T97ctmjh\\u002f\\u002fxP7azIDzylvU\\u002f7FcRKPKB+T8xX6tnh8D9P75kd\\u002f1YKQFAZsvt8DicA0CQ4ziO4zgGQDetWNVY\\u002fwhAZyhNxpjvC0AZVRZhowkPQKcZ2lK8JhFAf2ETSozdEkAcAjeWQakUQHv7RDfciRZAm009LVx\\u002fGEB3+B94wYkaQBr87BcMqRxAflikDDzdHkDSBiOrKJMgQMINafolwiFAGUEk9JX7IkDLoFSYeD8kQN0s+ubNjSVAVuUU4JXmJkApyqSD0EkoQGTbqdF9tylA+Bgkyp0vK0DtghNtMLIsQEoZeLo1Py5AANxRsq3WL0CMZVAqTLwwQEtzstB6kjFANxdPzOJtMkBYUSYdhE4zQKQhOMNeNDRAIYiEvnIfNUDShAsPwA82QLAXzbRGBTdAwkDJrwYAOEAAAAAAAAA5QAAAAAAAADlAwEDJrwYAOECwF820RgU3QNKECw\\u002fADzZAI4iEvnIfNUCkITjDXjQ0QFVRJh2ETjNAORdPzOJtMkBLc7LQepIxQI5lUCpMvDBAANxRsq3WL0BIGXi6NT8uQPGCE20wsixA+Bgkyp0vK0Bg26nRfbcpQCvKpIPQSShAVuUU4JXmJkDgLPrmzY0lQMugVJh4PyRAF0Ek9JX7IkDDDWn6JcIhQNIGI6sokyBAflikDDzdHkAd\\u002fOwXDKkcQHr4H3jBiRpAm009LVx\\u002fGEB7+0Q33IkWQB8CN5ZBqRRAgWETSozdEkCnGdpSvCYRQBlVFmGjCQ9AaihNxpjvC0A6rVjVWP8IQI3jOI7jOAZAZsvt8DicA0C+ZHf9WCkBQDZfq2eHwP0\\u002f8VcRKPKB+T+2syA88pb1P3ty2aOH\\u002f\\u002fE\\u002fjCh3vmR37T86Mo7c5JbnP+QB+KGPXeI\\u002fMy9pHcqW2z+z5odFysDTP7FUmHg\\u002fcso\\u002fBujXBir\\u002fvz8EVxVXKlOwP2fZo4f\\u002fgZc\\u002f+sBY6lTlZD\\u002f6wFjqVOVkP2fZo4f\\u002fgZc\\u002fBFcVVypTsD8G6NcGKv+\\u002fP5RUmHg\\u002fcso\\u002fs+aHRcrA0z8zL2kdypbbP+QB+KGPXeI\\u002fLTKO3OSW5z+MKHe+ZHftP3ty2aOH\\u002f\\u002fE\\u002ftrMgPPKW9T\\u002fsVxEo8oH5PzFfq2eHwP0\\u002fvmR3\\u002fVgpAUBmy+3wOJwDQJDjOI7jOAZAN61Y1Vj\\u002fCEBnKE3GmO8LQBlVFmGjCQ9ApxnaUrwmEUB\\u002fYRNKjN0SQBwCN5ZBqRRAe\\u002ftEN9yJFkCbTT0tXH8YQHf4H3jBiRpAGvzsFwypHEB+WKQMPN0eQNIGI6sokyBAwg1p+iXCIUAZQST0lfsiQMugVJh4PyRA3Sz65s2NJUBW5RTgleYmQCnKpIPQSShAZNup0X23KUD4GCTKnS8rQO2CE20wsixAShl4ujU\\u002fLkAA3FGyrdYvQIxlUCpMvDBAS3Oy0HqSMUA3F0\\u002fM4m0yQFhRJh2ETjNApCE4w140NEAhiIS+ch81QNKECw\\u002fADzZAsBfNtEYFN0DCQMmvBgA4QAAAAAAAADlAAAAAAAAAOUDAQMmvBgA4QLAXzbRGBTdA0oQLD8APNkAjiIS+ch81QKQhOMNeNDRAVVEmHYROM0A5F0\\u002fM4m0yQEtzstB6kjFAjmVQKky8MEAA3FGyrdYvQEgZeLo1Py5A8YITbTCyLED4GCTKnS8rQGDbqdF9tylAK8qkg9BJKEBW5RTgleYmQOAs+ubNjSVAy6BUmHg\\u002fJEAXQST0lfsiQMMNafolwiFA0gYjqyiTIEB+WKQMPN0eQB387BcMqRxAevgfeMGJGkCbTT0tXH8YQHv7RDfciRZAHwI3lkGpFECBYRNKjN0SQKcZ2lK8JhFAGVUWYaMJD0BqKE3GmO8LQDqtWNVY\\u002fwhAjeM4juM4BkBmy+3wOJwDQL5kd\\u002f1YKQFANl+rZ4fA\\u002fT\\u002fxVxEo8oH5P7azIDzylvU\\u002fe3LZo4f\\u002f8T+MKHe+ZHftPzoyjtzkluc\\u002f5AH4oY9d4j8zL2kdypbbP7Pmh0XKwNM\\u002fsVSYeD9yyj8G6NcGKv+\\u002fPwRXFVcqU7A\\u002fZ9mjh\\u002f+Blz\\u002f6wFjqVOVkP\\u002frAWOpU5WQ\\u002fZ9mjh\\u002f+Blz8EVxVXKlOwPwbo1wYq\\u002f78\\u002flFSYeD9yyj+z5odFysDTPzMvaR3Klts\\u002f5AH4oY9d4j8tMo7c5JbnP4wod75kd+0\\u002fe3LZo4f\\u002f8T+2syA88pb1P+xXESjygfk\\u002fMV+rZ4fA\\u002fT++ZHf9WCkBQGbL7fA4nANAkOM4juM4BkA3rVjVWP8IQGcoTcaY7wtAGVUWYaMJD0CnGdpSvCYRQH9hE0qM3RJAHAI3lkGpFEB7+0Q33IkWQJtNPS1cfxhAd\\u002fgfeMGJGkAa\\u002fOwXDKkcQH5YpAw83R5A0gYjqyiTIEDCDWn6JcIhQBlBJPSV+yJAy6BUmHg\\u002fJEDdLPrmzY0lQFblFOCV5iZAKcqkg9BJKEBk26nRfbcpQPgYJMqdLytA7YITbTCyLEBKGXi6NT8uQADcUbKt1i9AjGVQKky8MEBLc7LQepIxQDcXT8zibTJAWFEmHYROM0CkITjDXjQ0QCGIhL5yHzVA0oQLD8APNkCwF820RgU3QMJAya8GADhAAAAAAAAAOUA=\"},\"z\":{\"dtype\":\"f8\",\"bdata\":\"5vuEBZCmRcA8YDcJrFpFwNB0wAZZDEXAxmbDy6q7RMARyLeItGhEwKpjwNqIE0TAVefB1Dm8Q8Dk0MsH2WJDwGb+44p3B0PAgHZDAiaqQsCPbBGm9EpCwPQkqEjz6UHAmyhuXDGHQcDgJk35vSJBwM30zuGnvEDAP0Toh\\u002f1UQMC94u8imtc\\u002fwL47ArlIAj\\u002fAhXlLBiIqPsArWs2+QE89wNkXXB2\\u002fcTzA0\\u002fhP6raRO8C3i9uBQa86wPemDdp3yjnAKaqFiHLjOMA799\\u002fHSfo3wEQe4HwVDzfAG8hdO+0hNsCkB\\u002flK6DI1wLhfmqsdQjTA63nCGaRPM8D7QK0SklsywPvOS9j9ZTHASmMYdf1uMMCCu45\\u002fTe0uwCUXsL0e+izAVssPmJkEK8ChcFWv6AwpwFEP1Fc2EyfAD8jbn6wXJcCih+JVdRojwOe8hw66GyHAQLLtVEg3HsCrc1i4uTQawEPsP1saMBbAE9SzC7wpEsCf+ci54EMMwIxTBmQRMgTAwVkfJFk9+L\\u002fxnhMrUingv\\u002fGeEytSKeA\\u002fwVkfJFk9+D+MUwZkETIEQJ\\u002f5yLngQwxACdSzC7wpEkBD7D9bGjAWQKtzWLi5NBpAQLLtVEg3HkDivIcOuhshQKKH4lV1GiNAD8jbn6wXJUBRD9RXNhMnQJ5wVa\\u002foDClAVMsPmJkEK0AlF7C9HvosQIK7jn9N7S5AS2MYdf1uMED6zkvY\\u002fWUxQPpArRKSWzJA63nCGaRPM0C4X5qrHUI0QKIH+UroMjVAGshdO+0hNkBEHuB8FQ83QDv338dJ+jdAKaqFiHLjOED2pg3ad8o5QLeL24FBrzpA0\\u002fhP6raRO0DXF1wdv3E8QCxazb5ATz1AhXlLBiIqPkC7OwK5SAI\\u002fQL3i7yKa1z9AP0Toh\\u002f1UQEDP9M7hp7xAQOAmTfm9IkFAmihuXDGHQUD1JKhI8+lBQI9sEab0SkJAf3ZDAiaqQkBm\\u002fuOKdwdDQOPQywfZYkNAVufB1Dm8Q0CqY8DaiBNEQBHIt4i0aERAxmbDy6q7REDQdMAGWQxFQD1gNwmsWkVA5vuEBZCmRUDm+4QFkKZFwDxgNwmsWkXA0HTABlkMRcDGZsPLqrtEwBHIt4i0aETAqmPA2ogTRMBV58HUObxDwOTQywfZYkPAZv7jincHQ8CAdkMCJqpCwI9sEab0SkLA9CSoSPPpQcCbKG5cMYdBwOAmTfm9IkHAzfTO4ae8QMA\\u002fROiH\\u002fVRAwL3i7yKa1z\\u002fAvjsCuUgCP8CFeUsGIio+wCtazb5ATz3A2RdcHb9xPMDT+E\\u002fqtpE7wLeL24FBrzrA96YN2nfKOcApqoWIcuM4wDv338dJ+jfARB7gfBUPN8AbyF077SE2wKQH+UroMjXAuF+aqx1CNMDrecIZpE8zwPtArRKSWzLA+85L2P1lMcBKYxh1\\u002fW4wwIK7jn9N7S7AJRewvR76LMBWyw+YmQQrwKFwVa\\u002foDCnAUQ\\u002fUVzYTJ8APyNufrBclwKKH4lV1GiPA57yHDrobIcBAsu1USDcewKtzWLi5NBrAQ+w\\u002fWxowFsAT1LMLvCkSwJ\\u002f5yLngQwzAjFMGZBEyBMDBWR8kWT34v\\u002fGeEytSKeC\\u002f8Z4TK1Ip4D\\u002fBWR8kWT34P4xTBmQRMgRAn\\u002fnIueBDDEAJ1LMLvCkSQEPsP1saMBZAq3NYuLk0GkBAsu1USDceQOK8hw66GyFAoofiVXUaI0APyNufrBclQFEP1Fc2EydAnnBVr+gMKUBUyw+YmQQrQCUXsL0e+ixAgruOf03tLkBLYxh1\\u002fW4wQPrOS9j9ZTFA+kCtEpJbMkDrecIZpE8zQLhfmqsdQjRAogf5SugyNUAayF077SE2QEQe4HwVDzdAO\\u002fffx0n6N0ApqoWIcuM4QPamDdp3yjlAt4vbgUGvOkDT+E\\u002fqtpE7QNcXXB2\\u002fcTxALFrNvkBPPUCFeUsGIio+QLs7ArlIAj9AveLvIprXP0A\\u002fROiH\\u002fVRAQM\\u002f0zuGnvEBA4CZN+b0iQUCaKG5cMYdBQPUkqEjz6UFAj2wRpvRKQkB\\u002fdkMCJqpCQGb+44p3B0NA49DLB9liQ0BW58HUObxDQKpjwNqIE0RAEci3iLRoREDGZsPLqrtEQNB0wAZZDEVAPWA3CaxaRUDm+4QFkKZFQAAAAAAAAACA\\u002fRBlSk+YE8BJuTvDUgAbwOzZzxdjGiDAVe+whG4ZIsCN2paRvq8jwKJEzS7r9yTAK+\\u002fPdjACJsCpE8VsbdkmwGhwwBJlhSfA+Q+20OYLKMBjgRRidXEowCDrkJiruSjAveOEknznKMBw96V6Xv0owIRXzgho\\u002fSjAGhFffmXpKMBuYUT358IowA8p6NdQiyjA45pBf9pDKMCGoIQBn+0nwEKUlnGdiSfAu7jpFr4YJ8C1WmfS1ZsmwEm7teKoEybAUmNqK+2AJcBatLoZTOQkwDvYxzpkPiTAC5jvksqPI8B3ThPCC9kiwI1rLv6sGiLAgG6g6yxVIcC2PA9ZBIkgwH\\u002fvPsdNbR\\u002fAQoy1Dge9HcDIw889CgIcwCPRU6olPRrA2EnWFSFvGMABs7lkvpgWwMcV2UO6uhTAvF5ov8zVEsARSDXNqeoQwBuJSpgD9A3Aqt4Z9QMJCsBeg5LJqRUGwBJWsJpFGwLAuPgtPkg2\\u002fL\\u002fP1lT3HS30vwLKruQ1O+i\\u002f58tIpCkp0L\\u002fny0ikKSnQPwLKruQ1O+g\\u002fz9ZU9x0t9D+4+C0+SDb8PwhWsJpFGwJAXoOSyakVBkCq3hn1AwkKQBuJSpgD9A1ADUg1zanqEEC8Xmi\\u002fzNUSQMcV2UO6uhRAAbO5ZL6YFkDWSdYVIW8YQCHRU6olPRpAyMPPPQoCHEBCjLUOB70dQILvPsdNbR9AtTwPWQSJIEB+bqDrLFUhQI1rLv6sGiJAd04TwgvZIkAKmO+Syo8jQDrYxzpkPiRAWrS6GUzkJEBSY2or7YAlQEi7teKoEyZAtVpn0tWbJkC7uOkWvhgnQEKUlnGdiSdAhqCEAZ\\u002ftJ0DjmkF\\u002f2kMoQA8p6NdQiyhAbWFE9+fCKEAaEV9+ZekoQIRXzgho\\u002fShAcPelel79KEC944SSfOcoQCHrkJiruShAY4EUYnVxKED5D7bQ5gsoQGpwwBJlhSdAqRPFbG3ZJkAt7892MAImQJ1EzS7r9yRAjdqWkb6vI0BZ77CEbhkiQOzZzxdjGiBASbk7w1IAG0DrEGVKT5gTQAAAAAAAAAAAAAAAAAAAAID9EGVKT5gTwEm5O8NSABvA7NnPF2MaIMBV77CEbhkiwI3alpG+ryPAokTNLuv3JMAr7892MAImwKkTxWxt2SbAaHDAEmWFJ8D5D7bQ5gsowGOBFGJ1cSjAIOuQmKu5KMC944SSfOcowHD3pXpe\\u002fSjAhFfOCGj9KMAaEV9+ZekowG5hRPfnwijADyno11CLKMDjmkF\\u002f2kMowIaghAGf7SfAQpSWcZ2JJ8C7uOkWvhgnwLVaZ9LVmybASbu14qgTJsBSY2or7YAlwFq0uhlM5CTAO9jHOmQ+JMALmO+Syo8jwHdOE8IL2SLAjWsu\\u002fqwaIsCAbqDrLFUhwLY8D1kEiSDAf+8+x01tH8BCjLUOB70dwMjDzz0KAhzAI9FTqiU9GsDYSdYVIW8YwAGzuWS+mBbAxxXZQ7q6FMC8Xmi\\u002fzNUSwBFINc2p6hDAG4lKmAP0DcCq3hn1AwkKwF6DksmpFQbAElawmkUbAsC4+C0+SDb8v8\\u002fWVPcdLfS\\u002fAsqu5DU76L\\u002fny0ikKSnQv+fLSKQpKdA\\u002fAsqu5DU76D\\u002fP1lT3HS30P7j4LT5INvw\\u002fCFawmkUbAkBeg5LJqRUGQKreGfUDCQpAG4lKmAP0DUANSDXNqeoQQLxeaL\\u002fM1RJAxxXZQ7q6FEABs7lkvpgWQNZJ1hUhbxhAIdFTqiU9GkDIw889CgIcQEKMtQ4HvR1Agu8+x01tH0C1PA9ZBIkgQH5uoOssVSFAjWsu\\u002fqwaIkB3ThPCC9kiQAqY75LKjyNAOtjHOmQ+JEBatLoZTOQkQFJjaivtgCVASLu14qgTJkC1WmfS1ZsmQLu46Ra+GCdAQpSWcZ2JJ0CGoIQBn+0nQOOaQX\\u002faQyhADyno11CLKEBtYUT358IoQBoRX35l6ShAhFfOCGj9KEBw96V6Xv0oQL3jhJJ85yhAIeuQmKu5KEBjgRRidXEoQPkPttDmCyhAanDAEmWFJ0CpE8VsbdkmQC3vz3YwAiZAnUTNLuv3JECN2paRvq8jQFnvsIRuGSJA7NnPF2MaIEBJuTvDUgAbQOsQZUpPmBNAAAAAAAAAAAA=\"},\"type\":\"scatter3d\"}],                        {\"template\":{\"data\":{\"histogram2dcontour\":[{\"type\":\"histogram2dcontour\",\"colorbar\":{\"outlinewidth\":0,\"ticks\":\"\"},\"colorscale\":[[0.0,\"#0d0887\"],[0.1111111111111111,\"#46039f\"],[0.2222222222222222,\"#7201a8\"],[0.3333333333333333,\"#9c179e\"],[0.4444444444444444,\"#bd3786\"],[0.5555555555555556,\"#d8576b\"],[0.6666666666666666,\"#ed7953\"],[0.7777777777777778,\"#fb9f3a\"],[0.8888888888888888,\"#fdca26\"],[1.0,\"#f0f921\"]]}],\"choropleth\":[{\"type\":\"choropleth\",\"colorbar\":{\"outlinewidth\":0,\"ticks\":\"\"}}],\"histogram2d\":[{\"type\":\"histogram2d\",\"colorbar\":{\"outlinewidth\":0,\"ticks\":\"\"},\"colorscale\":[[0.0,\"#0d0887\"],[0.1111111111111111,\"#46039f\"],[0.2222222222222222,\"#7201a8\"],[0.3333333333333333,\"#9c179e\"],[0.4444444444444444,\"#bd3786\"],[0.5555555555555556,\"#d8576b\"],[0.6666666666666666,\"#ed7953\"],[0.7777777777777778,\"#fb9f3a\"],[0.8888888888888888,\"#fdca26\"],[1.0,\"#f0f921\"]]}],\"heatmap\":[{\"type\":\"heatmap\",\"colorbar\":{\"outlinewidth\":0,\"ticks\":\"\"},\"colorscale\":[[0.0,\"#0d0887\"],[0.1111111111111111,\"#46039f\"],[0.2222222222222222,\"#7201a8\"],[0.3333333333333333,\"#9c179e\"],[0.4444444444444444,\"#bd3786\"],[0.5555555555555556,\"#d8576b\"],[0.6666666666666666,\"#ed7953\"],[0.7777777777777778,\"#fb9f3a\"],[0.8888888888888888,\"#fdca26\"],[1.0,\"#f0f921\"]]}],\"contourcarpet\":[{\"type\":\"contourcarpet\",\"colorbar\":{\"outlinewidth\":0,\"ticks\":\"\"}}],\"contour\":[{\"type\":\"contour\",\"colorbar\":{\"outlinewidth\":0,\"ticks\":\"\"},\"colorscale\":[[0.0,\"#0d0887\"],[0.1111111111111111,\"#46039f\"],[0.2222222222222222,\"#7201a8\"],[0.3333333333333333,\"#9c179e\"],[0.4444444444444444,\"#bd3786\"],[0.5555555555555556,\"#d8576b\"],[0.6666666666666666,\"#ed7953\"],[0.7777777777777778,\"#fb9f3a\"],[0.8888888888888888,\"#fdca26\"],[1.0,\"#f0f921\"]]}],\"surface\":[{\"type\":\"surface\",\"colorbar\":{\"outlinewidth\":0,\"ticks\":\"\"},\"colorscale\":[[0.0,\"#0d0887\"],[0.1111111111111111,\"#46039f\"],[0.2222222222222222,\"#7201a8\"],[0.3333333333333333,\"#9c179e\"],[0.4444444444444444,\"#bd3786\"],[0.5555555555555556,\"#d8576b\"],[0.6666666666666666,\"#ed7953\"],[0.7777777777777778,\"#fb9f3a\"],[0.8888888888888888,\"#fdca26\"],[1.0,\"#f0f921\"]]}],\"mesh3d\":[{\"type\":\"mesh3d\",\"colorbar\":{\"outlinewidth\":0,\"ticks\":\"\"}}],\"scatter\":[{\"fillpattern\":{\"fillmode\":\"overlay\",\"size\":10,\"solidity\":0.2},\"type\":\"scatter\"}],\"parcoords\":[{\"type\":\"parcoords\",\"line\":{\"colorbar\":{\"outlinewidth\":0,\"ticks\":\"\"}}}],\"scatterpolargl\":[{\"type\":\"scatterpolargl\",\"marker\":{\"colorbar\":{\"outlinewidth\":0,\"ticks\":\"\"}}}],\"bar\":[{\"error_x\":{\"color\":\"#2a3f5f\"},\"error_y\":{\"color\":\"#2a3f5f\"},\"marker\":{\"line\":{\"color\":\"#E5ECF6\",\"width\":0.5},\"pattern\":{\"fillmode\":\"overlay\",\"size\":10,\"solidity\":0.2}},\"type\":\"bar\"}],\"scattergeo\":[{\"type\":\"scattergeo\",\"marker\":{\"colorbar\":{\"outlinewidth\":0,\"ticks\":\"\"}}}],\"scatterpolar\":[{\"type\":\"scatterpolar\",\"marker\":{\"colorbar\":{\"outlinewidth\":0,\"ticks\":\"\"}}}],\"histogram\":[{\"marker\":{\"pattern\":{\"fillmode\":\"overlay\",\"size\":10,\"solidity\":0.2}},\"type\":\"histogram\"}],\"scattergl\":[{\"type\":\"scattergl\",\"marker\":{\"colorbar\":{\"outlinewidth\":0,\"ticks\":\"\"}}}],\"scatter3d\":[{\"type\":\"scatter3d\",\"line\":{\"colorbar\":{\"outlinewidth\":0,\"ticks\":\"\"}},\"marker\":{\"colorbar\":{\"outlinewidth\":0,\"ticks\":\"\"}}}],\"scattermap\":[{\"type\":\"scattermap\",\"marker\":{\"colorbar\":{\"outlinewidth\":0,\"ticks\":\"\"}}}],\"scattermapbox\":[{\"type\":\"scattermapbox\",\"marker\":{\"colorbar\":{\"outlinewidth\":0,\"ticks\":\"\"}}}],\"scatterternary\":[{\"type\":\"scatterternary\",\"marker\":{\"colorbar\":{\"outlinewidth\":0,\"ticks\":\"\"}}}],\"scattercarpet\":[{\"type\":\"scattercarpet\",\"marker\":{\"colorbar\":{\"outlinewidth\":0,\"ticks\":\"\"}}}],\"carpet\":[{\"aaxis\":{\"endlinecolor\":\"#2a3f5f\",\"gridcolor\":\"white\",\"linecolor\":\"white\",\"minorgridcolor\":\"white\",\"startlinecolor\":\"#2a3f5f\"},\"baxis\":{\"endlinecolor\":\"#2a3f5f\",\"gridcolor\":\"white\",\"linecolor\":\"white\",\"minorgridcolor\":\"white\",\"startlinecolor\":\"#2a3f5f\"},\"type\":\"carpet\"}],\"table\":[{\"cells\":{\"fill\":{\"color\":\"#EBF0F8\"},\"line\":{\"color\":\"white\"}},\"header\":{\"fill\":{\"color\":\"#C8D4E3\"},\"line\":{\"color\":\"white\"}},\"type\":\"table\"}],\"barpolar\":[{\"marker\":{\"line\":{\"color\":\"#E5ECF6\",\"width\":0.5},\"pattern\":{\"fillmode\":\"overlay\",\"size\":10,\"solidity\":0.2}},\"type\":\"barpolar\"}],\"pie\":[{\"automargin\":true,\"type\":\"pie\"}]},\"layout\":{\"autotypenumbers\":\"strict\",\"colorway\":[\"#636efa\",\"#EF553B\",\"#00cc96\",\"#ab63fa\",\"#FFA15A\",\"#19d3f3\",\"#FF6692\",\"#B6E880\",\"#FF97FF\",\"#FECB52\"],\"font\":{\"color\":\"#2a3f5f\"},\"hovermode\":\"closest\",\"hoverlabel\":{\"align\":\"left\"},\"paper_bgcolor\":\"white\",\"plot_bgcolor\":\"#E5ECF6\",\"polar\":{\"bgcolor\":\"#E5ECF6\",\"angularaxis\":{\"gridcolor\":\"white\",\"linecolor\":\"white\",\"ticks\":\"\"},\"radialaxis\":{\"gridcolor\":\"white\",\"linecolor\":\"white\",\"ticks\":\"\"}},\"ternary\":{\"bgcolor\":\"#E5ECF6\",\"aaxis\":{\"gridcolor\":\"white\",\"linecolor\":\"white\",\"ticks\":\"\"},\"baxis\":{\"gridcolor\":\"white\",\"linecolor\":\"white\",\"ticks\":\"\"},\"caxis\":{\"gridcolor\":\"white\",\"linecolor\":\"white\",\"ticks\":\"\"}},\"coloraxis\":{\"colorbar\":{\"outlinewidth\":0,\"ticks\":\"\"}},\"colorscale\":{\"sequential\":[[0.0,\"#0d0887\"],[0.1111111111111111,\"#46039f\"],[0.2222222222222222,\"#7201a8\"],[0.3333333333333333,\"#9c179e\"],[0.4444444444444444,\"#bd3786\"],[0.5555555555555556,\"#d8576b\"],[0.6666666666666666,\"#ed7953\"],[0.7777777777777778,\"#fb9f3a\"],[0.8888888888888888,\"#fdca26\"],[1.0,\"#f0f921\"]],\"sequentialminus\":[[0.0,\"#0d0887\"],[0.1111111111111111,\"#46039f\"],[0.2222222222222222,\"#7201a8\"],[0.3333333333333333,\"#9c179e\"],[0.4444444444444444,\"#bd3786\"],[0.5555555555555556,\"#d8576b\"],[0.6666666666666666,\"#ed7953\"],[0.7777777777777778,\"#fb9f3a\"],[0.8888888888888888,\"#fdca26\"],[1.0,\"#f0f921\"]],\"diverging\":[[0,\"#8e0152\"],[0.1,\"#c51b7d\"],[0.2,\"#de77ae\"],[0.3,\"#f1b6da\"],[0.4,\"#fde0ef\"],[0.5,\"#f7f7f7\"],[0.6,\"#e6f5d0\"],[0.7,\"#b8e186\"],[0.8,\"#7fbc41\"],[0.9,\"#4d9221\"],[1,\"#276419\"]]},\"xaxis\":{\"gridcolor\":\"white\",\"linecolor\":\"white\",\"ticks\":\"\",\"title\":{\"standoff\":15},\"zerolinecolor\":\"white\",\"automargin\":true,\"zerolinewidth\":2},\"yaxis\":{\"gridcolor\":\"white\",\"linecolor\":\"white\",\"ticks\":\"\",\"title\":{\"standoff\":15},\"zerolinecolor\":\"white\",\"automargin\":true,\"zerolinewidth\":2},\"scene\":{\"xaxis\":{\"backgroundcolor\":\"#E5ECF6\",\"gridcolor\":\"white\",\"linecolor\":\"white\",\"showbackground\":true,\"ticks\":\"\",\"zerolinecolor\":\"white\",\"gridwidth\":2},\"yaxis\":{\"backgroundcolor\":\"#E5ECF6\",\"gridcolor\":\"white\",\"linecolor\":\"white\",\"showbackground\":true,\"ticks\":\"\",\"zerolinecolor\":\"white\",\"gridwidth\":2},\"zaxis\":{\"backgroundcolor\":\"#E5ECF6\",\"gridcolor\":\"white\",\"linecolor\":\"white\",\"showbackground\":true,\"ticks\":\"\",\"zerolinecolor\":\"white\",\"gridwidth\":2}},\"shapedefaults\":{\"line\":{\"color\":\"#2a3f5f\"}},\"annotationdefaults\":{\"arrowcolor\":\"#2a3f5f\",\"arrowhead\":0,\"arrowwidth\":1},\"geo\":{\"bgcolor\":\"white\",\"landcolor\":\"#E5ECF6\",\"subunitcolor\":\"white\",\"showland\":true,\"showlakes\":true,\"lakecolor\":\"white\"},\"title\":{\"x\":0.05},\"mapbox\":{\"style\":\"light\"}}},\"scene\":{\"domain\":{\"x\":[0.0,1.0],\"y\":[0.0,1.0]},\"xaxis\":{\"title\":{\"text\":\"X1_Square\"}},\"yaxis\":{\"title\":{\"text\":\"X2_Square\"}},\"zaxis\":{\"title\":{\"text\":\"X1*X2\"}}},\"coloraxis\":{\"colorbar\":{\"title\":{\"text\":\"Y\"}},\"colorscale\":[[0.0,\"#0d0887\"],[0.1111111111111111,\"#46039f\"],[0.2222222222222222,\"#7201a8\"],[0.3333333333333333,\"#9c179e\"],[0.4444444444444444,\"#bd3786\"],[0.5555555555555556,\"#d8576b\"],[0.6666666666666666,\"#ed7953\"],[0.7777777777777778,\"#fb9f3a\"],[0.8888888888888888,\"#fdca26\"],[1.0,\"#f0f921\"]]},\"legend\":{\"tracegroupgap\":0},\"margin\":{\"t\":60}},                        {\"responsive\": true}                    )                };            </script>        </div>"
      ],
      "text/plain": [
       "Figure({\n",
       "    'data': [{'hovertemplate': ('X1_Square=%{x}<br>X2_Square=%{' ... '%{marker.color}<extra></extra>'),\n",
       "              'legendgroup': '',\n",
       "              'marker': {'color': {'bdata': ('AAAAAAAAAAAAAAAAAAAAAAAAAAAAAA' ... 'EBAQEBAQEBAQEBAQEBAQEBAQEBAQ=='),\n",
       "                                   'dtype': 'i1'},\n",
       "                         'coloraxis': 'coloraxis',\n",
       "                         'symbol': 'circle'},\n",
       "              'mode': 'markers',\n",
       "              'name': '',\n",
       "              'scene': 'scene',\n",
       "              'showlegend': False,\n",
       "              'type': 'scatter3d',\n",
       "              'x': {'bdata': ('AQAAAADAUkDQrw1U/v9SQBS6zFKuPl' ... '6zlKv/P8Dn1wYq/+8/AAAAAAAAAAA='),\n",
       "                    'dtype': 'f8'},\n",
       "              'y': {'bdata': ('AAAAAAAAOUDAQMmvBgA4QLAXzbRGBT' ... '20RgU3QMJAya8GADhAAAAAAAAAOUA='),\n",
       "                    'dtype': 'f8'},\n",
       "              'z': {'bdata': ('5vuEBZCmRcA8YDcJrFpFwNB0wAZZDE' ... 'vDUgAbQOsQZUpPmBNAAAAAAAAAAAA='),\n",
       "                    'dtype': 'f8'}}],\n",
       "    'layout': {'coloraxis': {'colorbar': {'title': {'text': 'Y'}},\n",
       "                             'colorscale': [[0.0, '#0d0887'], [0.1111111111111111,\n",
       "                                            '#46039f'], [0.2222222222222222,\n",
       "                                            '#7201a8'], [0.3333333333333333,\n",
       "                                            '#9c179e'], [0.4444444444444444,\n",
       "                                            '#bd3786'], [0.5555555555555556,\n",
       "                                            '#d8576b'], [0.6666666666666666,\n",
       "                                            '#ed7953'], [0.7777777777777778,\n",
       "                                            '#fb9f3a'], [0.8888888888888888,\n",
       "                                            '#fdca26'], [1.0, '#f0f921']]},\n",
       "               'legend': {'tracegroupgap': 0},\n",
       "               'margin': {'t': 60},\n",
       "               'scene': {'domain': {'x': [0.0, 1.0], 'y': [0.0, 1.0]},\n",
       "                         'xaxis': {'title': {'text': 'X1_Square'}},\n",
       "                         'yaxis': {'title': {'text': 'X2_Square'}},\n",
       "                         'zaxis': {'title': {'text': 'X1*X2'}}},\n",
       "               'template': '...'}\n",
       "})"
      ]
     },
     "execution_count": 27,
     "metadata": {},
     "output_type": "execute_result"
    }
   ],
   "source": [
    "\n",
    "fig = px.scatter_3d(df, x='X1_Square', y='X2_Square', z='X1*X2',color='Y')\n",
    "fig"
   ]
  },
  {
   "cell_type": "code",
   "execution_count": 21,
   "metadata": {},
   "outputs": [
    {
     "data": {
      "text/plain": [
       "1.0"
      ]
     },
     "execution_count": 21,
     "metadata": {},
     "output_type": "execute_result"
    }
   ],
   "source": [
    "from sklearn.svm import SVC\n",
    "from sklearn.metrics import accuracy_score\n",
    "classifier = SVC(kernel=\"linear\")\n",
    "classifier.fit(X_train, y_train)\n",
    "y_pred = classifier.predict(X_test)\n",
    "accuracy_score(y_test, y_pred)"
   ]
  },
  {
   "cell_type": "code",
   "execution_count": 23,
   "metadata": {},
   "outputs": [
    {
     "data": {
      "text/plain": [
       "1.0"
      ]
     },
     "execution_count": 23,
     "metadata": {},
     "output_type": "execute_result"
    }
   ],
   "source": [
    "from sklearn.svm import SVC\n",
    "from sklearn.metrics import accuracy_score\n",
    "classifier = SVC(kernel=\"poly\")\n",
    "classifier.fit(X_train, y_train)\n",
    "y_pred = classifier.predict(X_test)\n",
    "accuracy_score(y_test, y_pred)"
   ]
  },
  {
   "cell_type": "code",
   "execution_count": 24,
   "metadata": {},
   "outputs": [
    {
     "data": {
      "text/plain": [
       "1.0"
      ]
     },
     "execution_count": 24,
     "metadata": {},
     "output_type": "execute_result"
    }
   ],
   "source": [
    "from sklearn.svm import SVC\n",
    "from sklearn.metrics import accuracy_score\n",
    "classifier = SVC(kernel=\"rbf\")\n",
    "classifier.fit(X_train, y_train)\n",
    "y_pred = classifier.predict(X_test)\n",
    "accuracy_score(y_test, y_pred)"
   ]
  },
  {
   "cell_type": "code",
   "execution_count": 25,
   "metadata": {},
   "outputs": [
    {
     "data": {
      "text/plain": [
       "1.0"
      ]
     },
     "execution_count": 25,
     "metadata": {},
     "output_type": "execute_result"
    }
   ],
   "source": [
    "from sklearn.svm import SVC\n",
    "from sklearn.metrics import accuracy_score\n",
    "classifier = SVC(kernel=\"sigmoid\")\n",
    "classifier.fit(X_train, y_train)\n",
    "y_pred = classifier.predict(X_test)\n",
    "accuracy_score(y_test, y_pred)"
   ]
  },
  {
   "cell_type": "code",
   "execution_count": null,
   "metadata": {},
   "outputs": [],
   "source": []
  }
 ],
 "metadata": {
  "kernelspec": {
   "display_name": "Python 3",
   "language": "python",
   "name": "python3"
  },
  "language_info": {
   "codemirror_mode": {
    "name": "ipython",
    "version": 3
   },
   "file_extension": ".py",
   "mimetype": "text/x-python",
   "name": "python",
   "nbconvert_exporter": "python",
   "pygments_lexer": "ipython3",
   "version": "3.10.11"
  }
 },
 "nbformat": 4,
 "nbformat_minor": 4
}
